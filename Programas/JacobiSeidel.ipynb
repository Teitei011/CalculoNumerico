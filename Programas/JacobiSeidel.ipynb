{
 "cells": [
  {
   "cell_type": "code",
   "execution_count": 3,
   "metadata": {},
   "outputs": [],
   "source": [
    "import numpy as np\n",
    "import math as m"
   ]
  },
  {
   "cell_type": "markdown",
   "metadata": {},
   "source": [
    "# Gauss- Jacobi\n",
    "\n",
    "Vamos mostrat como obter $x^{(k+1)} = C x^{(k)} + g$ a partir de **Ax = b**. Seja **D** uma matrix diagonalformada pela diagonal de **A**. Assim,\n",
    "\n",
    "[![https://imgur.com/JVgz8np.png](https://imgur.com/JVgz8np.png)](https://imgur.com/JVgz8np.png)\n",
    "\n",
    "Dessa forma, \n",
    "\n",
    "[![https://imgur.com/0zj1ctt.png](https://imgur.com/0zj1ctt.png)](https://imgur.com/0zj1ctt.png)\n",
    "\n",
    "\n",
    "Portanto,\n",
    "\n",
    "[![https://imgur.com/5jrbhZQ.png](https://imgur.com/5jrbhZQ.png)](https://imgur.com/5jrbhZQ.png)\n",
    "\n",
    "\n",
    "## Convergência\n",
    "\n",
    "O método de Gauss-jacobi **converge** para a soluação, independente da escolha de $x^{(0)}$, se satisfazer um dos critérios:\n",
    "\n",
    "1. Critério das linhas \n",
    "\n",
    "[![https://imgur.com/z0rvdA2.png](https://imgur.com/z0rvdA2.png)](https://imgur.com/z0rvdA2.png)\n",
    "\n",
    "2. Critério das colunas:\n",
    "\n",
    "[![https://imgur.com/KqCQMAV.png](https://imgur.com/KqCQMAV.png)](https://imgur.com/KqCQMAV.png)\n",
    "\n",
    "\n",
    "**Observações:**\n",
    "\n",
    "- Uma matriz que satisfaz o critério das linhas é dita **estritamente diagonal dominante**;\n",
    "- Quando menor o valor de $\\alpha$, mais rápida será a convergência"
   ]
  },
  {
   "cell_type": "code",
   "execution_count": 13,
   "metadata": {
    "colab": {
     "base_uri": "https://localhost:8080/"
    },
    "executionInfo": {
     "elapsed": 21023,
     "status": "ok",
     "timestamp": 1620735950554,
     "user": {
      "displayName": "Vitor Alves Pires",
      "photoUrl": "https://lh3.googleusercontent.com/a-/AOh14GiOWmozOiUOct2-zIat3NeoYXwq3fkCGl72YJVgiQ=s64",
      "userId": "04757212216159719223"
     },
     "user_tz": 180
    },
    "id": "clS_crNm8yHJ",
    "outputId": "ebaa00ee-0e4b-49a2-850a-7a4368394dfd"
   },
   "outputs": [],
   "source": [
    "def gauss_jacobi(A, b, x0, tol, flag):\n",
    "    n = np.shape(A)[0];\n",
    "    D = np.diag(np.diag(A));\n",
    "    aux_C = np.linalg.solve(D, A);\n",
    "    C = np.eye(n) - aux_C;\n",
    "    g = np.linalg.solve(D, b);\n",
    "    kmax = 10000; k = 0;\n",
    "\n",
    "    error = np.zeros(kmax);\n",
    "    if flag:\n",
    "        statment = (np.linalg.norm(b - A.dot(x0)) > tol and k < kmax);\n",
    "    else:\n",
    "        statment = (k < kmax);\n",
    "\n",
    "    while statment:\n",
    "        error[k] = np.linalg.norm(b - A.dot(x0));\n",
    "        k = k+1;\n",
    "        x0 = C.dot(x0) + g;\n",
    "        if flag:\n",
    "            statment = (np.linalg.norm(b - A.dot(x0)) > tol and k < kmax);\n",
    "        else:\n",
    "            statment = (k < kmax);\n",
    "    \n",
    "    if (k == kmax and flag):\n",
    "        print('\\nErro: o método não converge.\\n')\n",
    "    \n",
    "    x = x0;\n",
    "    return x, k, error\n",
    "\n"
   ]
  },
  {
   "cell_type": "markdown",
   "metadata": {},
   "source": [
    "# Gauss-Seidel\n",
    "\n",
    "\n",
    "Vamos mostrar como obter $x^{(k+1)} = C x^{(k)} +g$ a partir de $Ax = b$. Considere $A = L + R$, em que **L** é a matriz triangular inferior de **A** e **R** é a matriz triangular superioro de **A** sem a diagonal. Assim, \n",
    "\n",
    "[![https://imgur.com/kxTMhp4.png](https://imgur.com/kxTMhp4.png)](https://imgur.com/kxTMhp4.png)\n",
    "\n",
    "Dessa forma, \n",
    "\n",
    "[![https://imgur.com/YWD8bhJ.png](https://imgur.com/YWD8bhJ.png)](https://imgur.com/YWD8bhJ.png)\n",
    "\n",
    "Portanto, \n",
    "\n",
    "[![https://imgur.com/dxRrEKN.png](https://imgur.com/dxRrEKN.png)](https://imgur.com/dxRrEKN.png)\n",
    "\n",
    "\n",
    "\n",
    "## Convergência\n",
    "\n",
    "O método de Gauss-Seidel **converge** para a solução de $Ax = b$, independente da escolha de x^{(0)}, se satisfazer:\n",
    "\n",
    "[![https://imgur.com/dxRrEKN.png](https://imgur.com/dxRrEKN.png)](https://imgur.com/dxRrEKN.png)\n",
    "\n",
    "\n",
    "[![https://imgur.com/PJzEirl.png](https://imgur.com/PJzEirl.png)](https://imgur.com/PJzEirl.png)\n",
    "\n",
    "**Obs:** Quanto menor o valor de $\\beta$, mais rápida será a convergência\n",
    "\n"
   ]
  },
  {
   "cell_type": "code",
   "execution_count": 14,
   "metadata": {},
   "outputs": [],
   "source": [
    "def gauss_seidel(A,b,x0,tol,flag):\n",
    "    L = np.tril(A); R = np.triu(A,1);\n",
    "    C = -np.linalg.solve(L,R);\n",
    "    g = np.linalg.solve(L,b);\n",
    "    kmax = 10000; k = 0;\n",
    "\n",
    "    error = np.zeros(kmax); \n",
    "\n",
    "    if flag: \n",
    "        statment = (np.linalg.norm(b - A.dot(x0)) > tol and k < kmax);\n",
    "    else:\n",
    "        statment = (k < kmax);\n",
    "        \n",
    "    while statment:\n",
    "        error[k] = np.linalg.norm(b - A.dot(x0));\n",
    "        k += 1;\n",
    "        x0 = C.dot(x0)+g;\n",
    "        if flag:\n",
    "            statment = (np.linalg.norm(b - A.dot(x0)) > tol and k < kmax);\n",
    "        else:\n",
    "            statment = (k < kmax);\n",
    "\n",
    "    if (k == kmax and flag):\n",
    "        print('\\nErro: o método não converge.\\n')\n",
    "    \n",
    "    x = x0;\n",
    "    return x,k,error\n",
    "\n"
   ]
  },
  {
   "cell_type": "markdown",
   "metadata": {},
   "source": [
    "## Diferença de métodos \n",
    "\n",
    "[![https://imgur.com/nsTQAOv.png](https://imgur.com/nsTQAOv.png)](https://imgur.com/nsTQAOv.png)\n",
    "\n",
    "\n",
    "- Método de Gauss-Seidel converge mais **rápido**\n",
    "- Método de Gauss-Jacobi é **paralelizável**\n"
   ]
  },
  {
   "cell_type": "code",
   "execution_count": 15,
   "metadata": {},
   "outputs": [
    {
     "name": "stdout",
     "output_type": "stream",
     "text": [
      "[[-8.  1.  1.]\n",
      " [ 1. -5.  1.]\n",
      " [ 1.  1. -4.]]\n",
      "[ 1. 16.  7.]\n",
      "\n",
      "Solução Python:\n",
      "\n",
      "[-1. -4. -3.]\n"
     ]
    }
   ],
   "source": [
    "# Exemplo\n",
    "A = np.array([[ -8, 1, 1],  \n",
    "              [ 1, -5, 1],  \n",
    "              [1, 1, -4]], dtype='double')\n",
    "print(A)\n",
    "b = np.array([1,16,7], dtype='double')\n",
    "print(b)\n",
    "\n",
    "# Função Python\n",
    "print('\\nSolução Python:\\n')\n",
    "x = np.linalg.solve(A,b);\n",
    "print(x);"
   ]
  },
  {
   "cell_type": "markdown",
   "metadata": {},
   "source": [
    "## Solução Gauss-Jacobi"
   ]
  },
  {
   "cell_type": "code",
   "execution_count": 16,
   "metadata": {},
   "outputs": [
    {
     "name": "stdout",
     "output_type": "stream",
     "text": [
      "\n",
      "Solução Gauss-Jacobi:\n",
      "\n",
      "[-1. -4. -3.]\n",
      "22 iterações usadas\n"
     ]
    }
   ],
   "source": [
    "# Métodos Iterativos\n",
    "n = np.shape(A)[0];\n",
    "x0 = np.zeros(n); tol = 0.00000001;\n",
    "\n",
    "print('\\nSolução Gauss-Jacobi:\\n')\n",
    "(x_jacobi,k_jacobi,erro_jacobi) = gauss_jacobi(A,b,x0,tol,1);\n",
    "print(x_jacobi);\n",
    "print('%d iterações usadas' %(k_jacobi))"
   ]
  },
  {
   "cell_type": "markdown",
   "metadata": {},
   "source": [
    "## Solução Gauss-Siedel "
   ]
  },
  {
   "cell_type": "code",
   "execution_count": 8,
   "metadata": {},
   "outputs": [
    {
     "name": "stdout",
     "output_type": "stream",
     "text": [
      "\n",
      "Solução Gauss-Siedel:\n",
      "\n",
      "[-1. -4. -3.]\n",
      "12 iterações usadas\n"
     ]
    }
   ],
   "source": [
    "print('\\nSolução Gauss-Siedel:\\n')\n",
    "(x_siedel,k_siedel,erro_siedel) = gauss_seidel(A,b,x0,tol,1);\n",
    "print(x_siedel);\n",
    "print('%d iterações usadas' %(k_siedel))"
   ]
  }
 ],
 "metadata": {
  "colab": {
   "authorship_tag": "ABX9TyNmj18nqzzIPJVJ833crfTD",
   "collapsed_sections": [],
   "name": "Jacobi_Seidel.ipynb",
   "provenance": []
  },
  "kernelspec": {
   "display_name": "Python 3",
   "language": "python",
   "name": "python3"
  },
  "language_info": {
   "codemirror_mode": {
    "name": "ipython",
    "version": 3
   },
   "file_extension": ".py",
   "mimetype": "text/x-python",
   "name": "python",
   "nbconvert_exporter": "python",
   "pygments_lexer": "ipython3",
   "version": "3.9.5"
  }
 },
 "nbformat": 4,
 "nbformat_minor": 1
}
