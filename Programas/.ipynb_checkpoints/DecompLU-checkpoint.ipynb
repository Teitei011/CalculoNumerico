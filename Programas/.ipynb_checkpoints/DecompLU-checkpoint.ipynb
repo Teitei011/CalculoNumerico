{
 "cells": [
  {
   "cell_type": "code",
   "execution_count": 6,
   "metadata": {
    "colab": {
     "base_uri": "https://localhost:8080/"
    },
    "executionInfo": {
     "elapsed": 749,
     "status": "ok",
     "timestamp": 1619525369254,
     "user": {
      "displayName": "Vitor Alves Pires",
      "photoUrl": "https://lh3.googleusercontent.com/a-/AOh14GiOWmozOiUOct2-zIat3NeoYXwq3fkCGl72YJVgiQ=s64",
      "userId": "04757212216159719223"
     },
     "user_tz": 180
    },
    "id": "o2mGtuRZDKOj",
    "outputId": "4968ec5d-6f8f-4b69-f3b1-0ea871c2ad51"
   },
   "outputs": [],
   "source": [
    "import sympy\n",
    "import numpy as np"
   ]
  },
  {
   "cell_type": "code",
   "execution_count": 7,
   "metadata": {},
   "outputs": [
    {
     "name": "stdout",
     "output_type": "stream",
     "text": [
      "Matrix([[1, 0, 0], [1, 1, 0], [-2, 4, 1]])\n",
      "Matrix([[1, 2, 0], [0, 1, 1], [0, 0, -3]])\n",
      "Matrix([[1], [1], [1]])\n"
     ]
    }
   ],
   "source": [
    "#Decomposição LU com SymPy\n",
    "\n",
    "A = sympy.Matrix([[1, 2,0], [1, 3,1],[-2, 0,1] ])\n",
    "b = sympy.Matrix([3, 5,-1])\n",
    "L, U, _ = A.LUdecomposition()\n",
    "print(L)\n",
    "print(U)\n",
    "x = A.solve(b); \n",
    "print(x)"
   ]
  },
  {
   "cell_type": "code",
   "execution_count": 8,
   "metadata": {},
   "outputs": [],
   "source": [
    "#Decomposição LU\n",
    "\n",
    "def decompLU(A):\n",
    "    n = np.shape(A)[0]\n",
    "    L = np.eye(n) \n",
    "    U = np.zeros((n,n))\n",
    "    for k  in np.arange(n):\n",
    "        for j in np.arange(k,n):\n",
    "            U[k,j]=A[k,j]\n",
    "            for s in np.arange(k):\n",
    "                U[k,j] = U[k,j] - L[k,s]*U[s,j]\n",
    "    for i in np.arange(k+1,n):\n",
    "        L[i,k]=A[i,k]\n",
    "        for s in np.arange(k):\n",
    "            L[i,k] = L[i,k] - L[i,s]*U[s,k]\n",
    "        L[i,k] = L[i,k]/U[k,k]\n",
    "    return L, U  "
   ]
  },
  {
   "cell_type": "code",
   "execution_count": 9,
   "metadata": {},
   "outputs": [],
   "source": [
    "def LUsolve(A,b):\n",
    "    n = np.shape(A)[0]  \n",
    "    L,U = decompLU(A)\n",
    "    for k in range(1,n):\n",
    "        b[k] = b[k] - L[k,0:k].dot(b[0:k])\n",
    "    for k in range(n-1,-1,-1):\n",
    "        b[k] = (b[k] - U[k,k+1:n].dot(b[k+1:n]))/U[k,k]\n",
    "    return b\n",
    "\n"
   ]
  },
  {
   "cell_type": "code",
   "execution_count": 10,
   "metadata": {},
   "outputs": [
    {
     "name": "stdout",
     "output_type": "stream",
     "text": [
      "Matrix([[1, 0, 0], [1, 1, 0], [-2, 4, 1]])\n",
      "Matrix([[1, 2, 0], [0, 1, 1], [0, 0, -3]])\n",
      "[-1  2 -1]\n"
     ]
    }
   ],
   "source": [
    "#Exemplo \n",
    "A = np.array([[1, 2,0], [1, 3,1],[-2, 0,1]])\n",
    "b = np.array([3,5,-1])\n",
    "x = LUsolve(A,b)\n",
    "\n",
    "\n",
    "print(L)\n",
    "print(U)\n",
    "print(x)"
   ]
  },
  {
   "cell_type": "code",
   "execution_count": null,
   "metadata": {},
   "outputs": [],
   "source": []
  }
 ],
 "metadata": {
  "colab": {
   "authorship_tag": "ABX9TyOGWWO6FYIWT1QCi/6S3Z58",
   "name": "DecompLU.ipynb",
   "provenance": []
  },
  "kernelspec": {
   "display_name": "Python 3",
   "language": "python",
   "name": "python3"
  },
  "language_info": {
   "codemirror_mode": {
    "name": "ipython",
    "version": 3
   },
   "file_extension": ".py",
   "mimetype": "text/x-python",
   "name": "python",
   "nbconvert_exporter": "python",
   "pygments_lexer": "ipython3",
   "version": "3.9.5"
  }
 },
 "nbformat": 4,
 "nbformat_minor": 1
}
