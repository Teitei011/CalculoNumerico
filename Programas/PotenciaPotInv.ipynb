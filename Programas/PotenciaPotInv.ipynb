{
 "cells": [
  {
   "cell_type": "code",
   "execution_count": 1,
   "metadata": {
    "colab": {
     "base_uri": "https://localhost:8080/"
    },
    "id": "v3y1iInqusS7",
    "outputId": "443e1157-4791-4eb1-8cff-bbd4627d813d"
   },
   "outputs": [],
   "source": [
    "import numpy as np\n",
    "from scipy import linalg as lin\n",
    "import math as m\n",
    "import matplotlib.pyplot as plt"
   ]
  },
  {
   "cell_type": "markdown",
   "metadata": {},
   "source": [
    "# Método das potências"
   ]
  },
  {
   "cell_type": "code",
   "execution_count": 2,
   "metadata": {},
   "outputs": [],
   "source": [
    "def potencia(A,tol):\n",
    "    k = 0; kmax = 10000; erro = np.inf;\n",
    "    n = np.shape(A)[0]; y0 = np.zeros(n); y0[0] = 1;\n",
    "\n",
    "    while(erro > tol and k < kmax):\n",
    "        x = A.dot(y0);\n",
    "        y = x / np.linalg.norm(x);\n",
    "        erro = np.abs(np.abs(y0.dot(y)) - 1);\n",
    "        y0 = y; k += 1;\n",
    "    \n",
    "    lambda_ = y.dot(A.dot(y));\n",
    "    return lambda_, y, k"
   ]
  },
  {
   "cell_type": "markdown",
   "metadata": {},
   "source": [
    "# Método da Potência Inversa "
   ]
  },
  {
   "cell_type": "code",
   "execution_count": 3,
   "metadata": {},
   "outputs": [],
   "source": [
    "def potencia_inv(A,tol):\n",
    "    k = 0; kmax = 10000; erro = np.inf;\n",
    "    n = np.shape(A)[0]; y0 = np.zeros(n); y0[0] = 1;\n",
    "\n",
    "    while(erro > tol and k < kmax):\n",
    "        x = np.linalg.solve(A,y0);\n",
    "        y = x / np.linalg.norm(x);\n",
    "        erro = np.abs(np.abs(y0.dot(y)) - 1);\n",
    "        y0 = y; k +=1;\n",
    "\n",
    "    lambda_ = y.dot(A.dot(y));\n",
    "    return lambda_, y, k"
   ]
  },
  {
   "cell_type": "markdown",
   "metadata": {},
   "source": [
    "# Exemplo"
   ]
  },
  {
   "cell_type": "code",
   "execution_count": 4,
   "metadata": {},
   "outputs": [],
   "source": [
    "A = np.array([[-4, 14, 0],  \n",
    "              [ -5, 13, 0],\n",
    "              [ -1, 0,2]], dtype='double')\n",
    "\n",
    "\n",
    "(D_python,V_python) = np.linalg.eig(A); # usando uma função pronta para calcular todos os autovalores"
   ]
  },
  {
   "cell_type": "code",
   "execution_count": 5,
   "metadata": {},
   "outputs": [
    {
     "name": "stdout",
     "output_type": "stream",
     "text": [
      "Cálculo do maior autovalor em módulo de A\n",
      "Potência: 6.0043  usando 10 iterações\n",
      "Python: 6.0000\n",
      "\n"
     ]
    }
   ],
   "source": [
    "print('Cálculo do maior autovalor em módulo de A')\n",
    "(lambda_,y,k) = potencia(A,0.000001)\n",
    "print('Potência: %.4f  usando %d iterações' %(lambda_,k))\n",
    "print('Python: %.4f\\n' %(np.max(abs(D_python))))"
   ]
  },
  {
   "cell_type": "code",
   "execution_count": 6,
   "metadata": {},
   "outputs": [
    {
     "name": "stdout",
     "output_type": "stream",
     "text": [
      "Cálculo do menor autovalor em módulo de A\n",
      "Potência Inversa: 1.9982  usando 16 iterações\n",
      "Python: 2.0000\n",
      "\n"
     ]
    }
   ],
   "source": [
    "print('Cálculo do menor autovalor em módulo de A')\n",
    "(lambda_inv,y,k) = potencia_inv(A,0.000001)\n",
    "print('Potência Inversa: %.4f  usando %d iterações' %(lambda_inv,k))\n",
    "print('Python: %.4f\\n' %(np.min(abs(D_python))))"
   ]
  }
 ],
 "metadata": {
  "colab": {
   "collapsed_sections": [],
   "name": "Potencia_PotInv.ipynb",
   "provenance": []
  },
  "kernelspec": {
   "display_name": "Python 3",
   "language": "python",
   "name": "python3"
  },
  "language_info": {
   "codemirror_mode": {
    "name": "ipython",
    "version": 3
   },
   "file_extension": ".py",
   "mimetype": "text/x-python",
   "name": "python",
   "nbconvert_exporter": "python",
   "pygments_lexer": "ipython3",
   "version": "3.9.5"
  }
 },
 "nbformat": 4,
 "nbformat_minor": 1
}
