{
 "cells": [
  {
   "cell_type": "code",
   "execution_count": 1,
   "id": "a00fca57",
   "metadata": {},
   "outputs": [],
   "source": [
    "import numpy as np\n",
    "import math as m"
   ]
  },
  {
   "cell_type": "markdown",
   "id": "b653e5c2",
   "metadata": {},
   "source": [
    "# Decomposição QR\n",
    "\n",
    "A Decomposição QR completa de $A \\in M(n, n)$ é dada por:\n",
    "\n",
    "$$A = Q . R$$\n",
    "\n",
    "onde $Q \\in M(m, m)$ é **ortogonal** e $R \\in M(n, n)$ é **triangular superior.**\n",
    "\n",
    "[![https://imgur.com/gE3pJAp.png](https://imgur.com/gE3pJAp.png)](https://imgur.com/gE3pJAp.png)\n",
    "\n",
    "\n",
    "\n",
    "## Decomposição QR Reduzida\n",
    "\n",
    "[![https://imgur.com/0DWdvqe.png](https://imgur.com/0DWdvqe.png)](https://imgur.com/0DWdvqe.png)\n",
    "\n",
    "Usando o Processo de Gram-Schmidt nos vetores coluna ${a_1, ..., a_n}$, obtemos $A = \\hat{Q} . \\hat{R}$ com:\n",
    "\n",
    "[![https://imgur.com/t53ASNS.png](https://imgur.com/t53ASNS.png)](https://imgur.com/t53ASNS.png)\n",
    "\n",
    "[![https://imgur.com/fYQ5XVV.png](https://imgur.com/fYQ5XVV.png)](https://imgur.com/fYQ5XVV.png)\n",
    "\n",
    "\n",
    "### Exemplo\n",
    "\n",
    "[![https://imgur.com/f8zoFWm.png](https://imgur.com/f8zoFWm.png)](https://imgur.com/f8zoFWm.png)\n"
   ]
  },
  {
   "cell_type": "markdown",
   "id": "8916aa4f",
   "metadata": {},
   "source": [
    "## QR Padrão "
   ]
  },
  {
   "cell_type": "code",
   "execution_count": 2,
   "id": "06b3d162",
   "metadata": {},
   "outputs": [],
   "source": [
    "def clgsQR(A):\n",
    "    (m,n) = np.shape(A);\n",
    "    Q = np.zeros((m,n));\n",
    "    R = np.zeros((n,n));\n",
    "\n",
    "    for j in np.arange(n):\n",
    "        V = A[:,j];\n",
    "        for i in np.arange(j):\n",
    "            R[i, j] = Q[:,i].dot(A[:,j]); \n",
    "            V = V -  R[i, j] * Q[:,i];\n",
    "        R[j, j] = np.linalg.norm(V);\n",
    "        Q[:,j] = V / R[j, j];\n",
    "\n",
    "    return Q, R"
   ]
  },
  {
   "cell_type": "markdown",
   "id": "c5053ade",
   "metadata": {},
   "source": [
    "## QR modificado\n",
    "\n",
    "\n",
    "- Pequenas modificações no Gram-Schmidt clássico\n",
    "- Numericamente estável (menos sensível a erros de arredondamento) \n",
    "- [![https://imgur.com/szhHMhs.png](https://imgur.com/szhHMhsl.png)](https://imgur.com/szhHMhsl.png)\n",
    "\n",
    "[![https://imgur.com/bXo5W3n.png](https://imgur.com/bXo5W3n.png)](https://imgur.com/bXo5W3n.png)\n"
   ]
  },
  {
   "cell_type": "code",
   "execution_count": 3,
   "id": "d061c2d0",
   "metadata": {},
   "outputs": [
    {
     "ename": "SyntaxError",
     "evalue": "invalid syntax (<ipython-input-3-08065614c302>, line 4)",
     "output_type": "error",
     "traceback": [
      "\u001b[0;36m  File \u001b[0;32m\"<ipython-input-3-08065614c302>\"\u001b[0;36m, line \u001b[0;32m4\u001b[0m\n\u001b[0;31m    - Pequenas modificações no Gram-Schmidt clássico\u001b[0m\n\u001b[0m               ^\u001b[0m\n\u001b[0;31mSyntaxError\u001b[0m\u001b[0;31m:\u001b[0m invalid syntax\n"
     ]
    }
   ],
   "source": []
  },
  {
   "cell_type": "code",
   "execution_count": null,
   "id": "fda2d0f0",
   "metadata": {},
   "outputs": [],
   "source": []
  }
 ],
 "metadata": {
  "kernelspec": {
   "display_name": "Python 3",
   "language": "python",
   "name": "python3"
  },
  "language_info": {
   "codemirror_mode": {
    "name": "ipython",
    "version": 3
   },
   "file_extension": ".py",
   "mimetype": "text/x-python",
   "name": "python",
   "nbconvert_exporter": "python",
   "pygments_lexer": "ipython3",
   "version": "3.9.5"
  }
 },
 "nbformat": 4,
 "nbformat_minor": 5
}
