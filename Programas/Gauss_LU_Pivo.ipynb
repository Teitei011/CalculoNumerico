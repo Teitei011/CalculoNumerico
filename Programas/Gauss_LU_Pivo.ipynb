{
 "cells": [
  {
   "cell_type": "code",
   "execution_count": 1,
   "id": "42c99e49",
   "metadata": {},
   "outputs": [],
   "source": [
    "import numpy as np"
   ]
  },
  {
   "cell_type": "markdown",
   "id": "c87d3d63",
   "metadata": {},
   "source": [
    "# Eliminação de Gauss com Pivoteamento\n",
    "\n",
    "\n",
    "## Pivoteamento Parcial \n",
    "\n",
    "1. A cada passo k, antes da etapa de eliminação, encontre p $\\in [k,n]$ que satisfaça:\n",
    "\n",
    "\n",
    "$$ |a_{p k}^{(k)} | = \\max_{i = k, ..., n} \\{|a_{i k}^{(k)} | \\}$$\n",
    "\n",
    "2. Permute as linhas k e p\n",
    "\n",
    "\n",
    "## Decomposição $PA = LU$\n",
    "\n",
    "Como ficaria a Decomposição LU agora que sabemos fazer pivoteamento?\n",
    "\n",
    "$$ PA = LU$$\n",
    "\n",
    "onde **P** é uma **matriz de permutação**\n",
    "\n",
    "\n",
    "### Resolvendo Ax = b\n",
    "\n",
    "$$(L . U) x = (P . A) x = Pb$$\n",
    "\n",
    "1. Resolva $Ly = Pb$ com substituições progressivas\n",
    "2. Resolva $Ux = y$ com substituições regressivas\n",
    "\n"
   ]
  },
  {
   "cell_type": "markdown",
   "id": "1f1b3610",
   "metadata": {},
   "source": [
    "##  Gauss com pivô"
   ]
  },
  {
   "cell_type": "code",
   "execution_count": 3,
   "id": "3004ec85",
   "metadata": {},
   "outputs": [],
   "source": [
    "def eliminacao_gauss_pivo(A, b):\n",
    "    n = np.shape(A)[0]\n",
    "    newA = np.copy(A)\n",
    "    newb = np.copy(b)\n",
    "\n",
    "    for k in np.arange(n - 1):\n",
    "        p = np.argmax(np.abs(newA[k:n, k]))\n",
    "        newA[[k, p], k:n] = newA[[p, k], k:n]\n",
    "        newb[[k, p]] = newb[[p, k]]\n",
    "\n",
    "        for i in np.arange(k + 1, n):\n",
    "            m = - newA[i, k] / newA[k, k]\n",
    "            newA[i, k:n] = newA[i, k:n] + m * newA[k, k:n]\n",
    "            newb[i] = newb[i] + m * newb[k]\n",
    "\n",
    "    return newA, newb\n",
    "\n"
   ]
  },
  {
   "cell_type": "markdown",
   "id": "9c6acdc9",
   "metadata": {},
   "source": [
    "## Substituições progressiva e regressivas"
   ]
  },
  {
   "cell_type": "code",
   "execution_count": 4,
   "id": "570daba9",
   "metadata": {},
   "outputs": [],
   "source": [
    "\n",
    "def sub_regressiva(U, y):\n",
    "    n = np.shape(y)[0]\n",
    "    x = np.zeros(n)\n",
    "\n",
    "    for i in np.arange(n - 1, -1, -1):\n",
    "        x[i] = (y[i] - U[i, i + 1:n].dot(x[i + 1:n])) / U[i, i]\n",
    "    return x\n",
    "\n",
    "def sub_progressiva(L,b):\n",
    "    n = np.shape(b)[0]\n",
    "    z = np.zeros(n)\n",
    "\n",
    "    for i in np.arange(n):\n",
    "        z[i] = (b[i] - L[i, 0:i].dot(z[0:i])) / L[i, i]\n",
    "\n",
    "    return z\n"
   ]
  },
  {
   "cell_type": "markdown",
   "id": "76947a22",
   "metadata": {},
   "source": [
    "## LU com pivô\n"
   ]
  },
  {
   "cell_type": "code",
   "execution_count": 5,
   "id": "4b7daedb",
   "metadata": {},
   "outputs": [],
   "source": [
    "def fatoraLUpivo(A):\n",
    "    U = np.copy(A)  \n",
    "    n = np.shape(U)[0]  \n",
    "    L = np.eye(n)  \n",
    "    P = np.copy(L)\n",
    "\n",
    "    for j in np.arange(n - 1):\n",
    "        p = np.argmax(np.abs(U[j:n, j]))\n",
    "        P[[j,p],:] = P[[p, j],:]\n",
    "        U[[j,p],j:n] = U[[p, j],j:n]\n",
    "        L[[j,p],0:j] = L[[p, j],0:j]\n",
    "\n",
    "        for i in np.arange(j + 1, n):\n",
    "            L[i, j] = U[i, j] / U[j, j] \n",
    "            U[i, j + 1:n] = U[i, j + 1:n] - L[i, j] * U[j, j + 1:n]\n",
    "            U[i, j] = 0 \n",
    "    return L, U, P\n"
   ]
  },
  {
   "cell_type": "markdown",
   "id": "8234fbec",
   "metadata": {},
   "source": [
    "## Exemplo"
   ]
  },
  {
   "cell_type": "code",
   "execution_count": 6,
   "id": "bd329070",
   "metadata": {},
   "outputs": [],
   "source": [
    "\n",
    "A = np.array([[1, 1, 1],  \n",
    "              [1, 0,10],  \n",
    "              [0,10, 1]], dtype='double')\n",
    "b = [0,-48,25]"
   ]
  },
  {
   "cell_type": "code",
   "execution_count": 7,
   "id": "2ea84429",
   "metadata": {},
   "outputs": [
    {
     "name": "stdout",
     "output_type": "stream",
     "text": [
      "Eliminação Gauss com pivô: [ 2.  3. -5.]\n",
      "LU com pivô: [ 2.  3. -5.]\n"
     ]
    }
   ],
   "source": [
    "(newA, newb) = eliminacao_gauss_pivo(A, b)\n",
    "x_pivo_gauss = sub_regressiva(newA, newb)\n",
    "print(f\"Eliminação Gauss com pivô: {x_pivo_gauss}\")\n",
    "\n",
    "\n",
    "#------------------------------------------------------#\n",
    "\n",
    "(L, U, P) = fatoraLUpivo(A)\n",
    "bpivo = P.dot(b)\n",
    "ypivo = sub_progressiva(L, bpivo)\n",
    "x_pivo_lu = sub_regressiva(U, ypivo)\n",
    "print(f\"LU com pivô: {x_pivo_lu}\")\n",
    "\n"
   ]
  },
  {
   "cell_type": "code",
   "execution_count": null,
   "id": "58fc17d9",
   "metadata": {},
   "outputs": [],
   "source": []
  }
 ],
 "metadata": {
  "kernelspec": {
   "display_name": "Python 3",
   "language": "python",
   "name": "python3"
  },
  "language_info": {
   "codemirror_mode": {
    "name": "ipython",
    "version": 3
   },
   "file_extension": ".py",
   "mimetype": "text/x-python",
   "name": "python",
   "nbconvert_exporter": "python",
   "pygments_lexer": "ipython3",
   "version": "3.9.5"
  }
 },
 "nbformat": 4,
 "nbformat_minor": 5
}
