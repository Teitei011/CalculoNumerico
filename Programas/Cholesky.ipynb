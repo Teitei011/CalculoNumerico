{
 "cells": [
  {
   "cell_type": "code",
   "execution_count": 3,
   "metadata": {
    "colab": {
     "base_uri": "https://localhost:8080/"
    },
    "executionInfo": {
     "elapsed": 2359,
     "status": "ok",
     "timestamp": 1620128771763,
     "user": {
      "displayName": "Vitor Alves Pires",
      "photoUrl": "https://lh3.googleusercontent.com/a-/AOh14GiOWmozOiUOct2-zIat3NeoYXwq3fkCGl72YJVgiQ=s64",
      "userId": "04757212216159719223"
     },
     "user_tz": 180
    },
    "id": "oCFmezkjcOVN",
    "outputId": "15acffc6-cd85-47b2-a6c0-30d43e477b42"
   },
   "outputs": [],
   "source": [
    "from math import sqrt\n",
    "import numpy as np"
   ]
  },
  {
   "cell_type": "markdown",
   "metadata": {},
   "source": [
    "# Decomposição de Cholesky \n",
    "\n",
    "Dada **A** $\\in M(n,n)$ SPD. Queremos **H** $\\in M(n, n)$, tal que:\n",
    "\n",
    "$$A = H . H^T$$\n",
    "\n",
    "[![https://imgur.com/uXRuTxz.png](https://imgur.com/uXRuTxz.png)](https://imgur.com/uXRuTxz.png)\n",
    "\n",
    "\n",
    "\n",
    "1. Diagonal \n",
    "$$h_{i i} = \\left( a_{ii} - \\sum_{k = 1}^{i - 1} h_{i k}^2\\right)^{\\frac{1}{2}}$$\n",
    "\n",
    "2. Fora da diagonal \n",
    "\n",
    "$$ h_{i j} = \\frac{a_{i j} - \\sum_{k = 1}^{j - 1} h_{i k} h_{j k}} {h_{j j}}$$\n",
    "\n",
    "\n",
    "\n",
    "## Complexidade: \n",
    "\n",
    " **Cholesky:** $\\frac{n^3}{3}$ flops\n",
    "  - $50 \\%$ mais eficiente que LU!\n",
    "  - Economia de memória, pois só armazena uma matriz!\n"
   ]
  },
  {
   "cell_type": "code",
   "execution_count": 11,
   "metadata": {},
   "outputs": [],
   "source": [
    "def cholesky(A):\n",
    "    n = np.shape(A)[0]\n",
    "    H = np.zeros((n,n))\n",
    "\n",
    "    for i in np.arange(n):\n",
    "        for j in np.arange(i + 1):\n",
    "            tmp_sum = sum(H[i][k] * H[j][k] for k in np.arange(j))           \n",
    "            if (i == j):\n",
    "                H[i][j] = sqrt(A[i][i] - tmp_sum)\n",
    "            else:\n",
    "                H[i][j] = ((A[i][j] - tmp_sum) / H[j][j])\n",
    "    return H"
   ]
  },
  {
   "cell_type": "markdown",
   "metadata": {},
   "source": [
    "## Exemplo"
   ]
  },
  {
   "cell_type": "code",
   "execution_count": 13,
   "metadata": {},
   "outputs": [
    {
     "name": "stdout",
     "output_type": "stream",
     "text": [
      "Matrix Original: \n",
      "[[3 2 0]\n",
      " [2 5 1]\n",
      " [0 1 3]]\n",
      "\n",
      "\n",
      "\n",
      "Matrix Cholesky: \n",
      " [[1.73205081 0.         0.        ]\n",
      " [1.15470054 1.91485422 0.        ]\n",
      " [0.         0.52223297 1.65144565]]\n"
     ]
    }
   ],
   "source": [
    "A = [[3,2,0], [2,5,1], [0,1,3]]\n",
    "H = cholesky(A)\n",
    "\n",
    "print(f\"Matrix Original: \\n{np.array(A)}\")\n",
    "print(\"\\n\\n\")\n",
    "print(f\"Matrix Cholesky: \\n {H}\")"
   ]
  },
  {
   "cell_type": "code",
   "execution_count": null,
   "metadata": {},
   "outputs": [],
   "source": []
  }
 ],
 "metadata": {
  "colab": {
   "authorship_tag": "ABX9TyMWJoOwjn5M81N0c/PpX+zo",
   "collapsed_sections": [],
   "name": "Cholesky.ipynb",
   "provenance": []
  },
  "kernelspec": {
   "display_name": "Python 3",
   "language": "python",
   "name": "python3"
  },
  "language_info": {
   "codemirror_mode": {
    "name": "ipython",
    "version": 3
   },
   "file_extension": ".py",
   "mimetype": "text/x-python",
   "name": "python",
   "nbconvert_exporter": "python",
   "pygments_lexer": "ipython3",
   "version": "3.9.5"
  }
 },
 "nbformat": 4,
 "nbformat_minor": 1
}
