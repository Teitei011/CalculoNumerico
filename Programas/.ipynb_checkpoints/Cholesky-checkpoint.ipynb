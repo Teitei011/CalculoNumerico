{
 "cells": [
  {
   "cell_type": "code",
   "execution_count": null,
   "id": "6c744e9e",
   "metadata": {},
   "outputs": [],
   "source": [
    "from math import sqrt\n",
    "import numpy as np"
   ]
  },
  {
   "cell_type": "markdown",
   "id": "de75101a",
   "metadata": {},
   "source": [
    "# Decomposição de Cholesky \n",
    "\n",
    "Dada **A** $\\in M(n,n)$ SPD. Queremos **H** $\\in M(n, n)$, tal que:\n",
    "\n",
    "$$A = H . H^T$$\n",
    "\n",
    "[![https://imgur.com/uXRuTxz.png](https://imgur.com/uXRuTxz.png)](https://imgur.com/uXRuTxz.png)\n",
    "\n",
    "\n",
    "\n",
    "1. Diagonal \n",
    "$$h_{i i} = \\left( a_{ii} - \\sum_{k = 1}^{i - 1} h_{i k}^2\\right)^{\\frac{1}{2}}$$\n",
    "\n",
    "2. Fora da diagonal \n",
    "\n",
    "$$ h_{i j} = \\frac{a_{i j} - \\sum_{k = 1}^{j - 1} h_{i k} h_{j k}} {h_{j j}}$$\n",
    "\n",
    "\n",
    "\n",
    "## Complexidade: \n",
    "\n",
    " **Cholesky:** $\\frac{n^3}{3}$ flops\n",
    "  - $50 \\%$ mais eficiente que LU!\n",
    "  - Economia de memória, pois só armazena uma matriz!\n"
   ]
  },
  {
   "cell_type": "code",
   "execution_count": 1,
   "id": "05fce07d",
   "metadata": {},
   "outputs": [],
   "source": [
    "def cholesky(A):\n",
    "    n = np.shape(A)[0]\n",
    "    H = np.zeros((n,n))\n",
    "\n",
    "    for i in np.arange(n):\n",
    "        for j in np.arange(i + 1):\n",
    "            tmp_sum = sum(H[i][k] * H[j][k] for k in np.arange(j))           \n",
    "            if (i == j):\n",
    "                H[i][j] = sqrt(A[i][i] - tmp_sum)\n",
    "            else:\n",
    "                H[i][j] = ((A[i][j] - tmp_sum) / H[j][j])\n",
    "    return H"
   ]
  },
  {
   "cell_type": "markdown",
   "id": "d4f60d94",
   "metadata": {},
   "source": [
    "## Exemplo"
   ]
  },
  {
   "cell_type": "code",
   "execution_count": 2,
   "id": "1f831f26",
   "metadata": {},
   "outputs": [
    {
     "ename": "NameError",
     "evalue": "name 'np' is not defined",
     "output_type": "error",
     "traceback": [
      "\u001b[0;31m---------------------------------------------------------------------------\u001b[0m",
      "\u001b[0;31mNameError\u001b[0m                                 Traceback (most recent call last)",
      "\u001b[0;32m<ipython-input-2-b5faadb0e174>\u001b[0m in \u001b[0;36m<module>\u001b[0;34m\u001b[0m\n\u001b[1;32m      1\u001b[0m \u001b[0mA\u001b[0m \u001b[0;34m=\u001b[0m \u001b[0;34m[\u001b[0m\u001b[0;34m[\u001b[0m\u001b[0;36m3\u001b[0m\u001b[0;34m,\u001b[0m\u001b[0;36m2\u001b[0m\u001b[0;34m,\u001b[0m\u001b[0;36m0\u001b[0m\u001b[0;34m]\u001b[0m\u001b[0;34m,\u001b[0m \u001b[0;34m[\u001b[0m\u001b[0;36m2\u001b[0m\u001b[0;34m,\u001b[0m\u001b[0;36m5\u001b[0m\u001b[0;34m,\u001b[0m\u001b[0;36m1\u001b[0m\u001b[0;34m]\u001b[0m\u001b[0;34m,\u001b[0m \u001b[0;34m[\u001b[0m\u001b[0;36m0\u001b[0m\u001b[0;34m,\u001b[0m\u001b[0;36m1\u001b[0m\u001b[0;34m,\u001b[0m\u001b[0;36m3\u001b[0m\u001b[0;34m]\u001b[0m\u001b[0;34m]\u001b[0m\u001b[0;34m\u001b[0m\u001b[0;34m\u001b[0m\u001b[0m\n\u001b[0;32m----> 2\u001b[0;31m \u001b[0mH\u001b[0m \u001b[0;34m=\u001b[0m \u001b[0mcholesky\u001b[0m\u001b[0;34m(\u001b[0m\u001b[0mA\u001b[0m\u001b[0;34m)\u001b[0m\u001b[0;34m\u001b[0m\u001b[0;34m\u001b[0m\u001b[0m\n\u001b[0m\u001b[1;32m      3\u001b[0m \u001b[0;34m\u001b[0m\u001b[0m\n\u001b[1;32m      4\u001b[0m \u001b[0mprint\u001b[0m\u001b[0;34m(\u001b[0m\u001b[0;34mf\"Matrix Original: \\n{np.array(A)}\"\u001b[0m\u001b[0;34m)\u001b[0m\u001b[0;34m\u001b[0m\u001b[0;34m\u001b[0m\u001b[0m\n\u001b[1;32m      5\u001b[0m \u001b[0mprint\u001b[0m\u001b[0;34m(\u001b[0m\u001b[0;34m\"\\n\\n\"\u001b[0m\u001b[0;34m)\u001b[0m\u001b[0;34m\u001b[0m\u001b[0;34m\u001b[0m\u001b[0m\n",
      "\u001b[0;32m<ipython-input-1-e8d0fb632f46>\u001b[0m in \u001b[0;36mcholesky\u001b[0;34m(A)\u001b[0m\n\u001b[1;32m      1\u001b[0m \u001b[0;32mdef\u001b[0m \u001b[0mcholesky\u001b[0m\u001b[0;34m(\u001b[0m\u001b[0mA\u001b[0m\u001b[0;34m)\u001b[0m\u001b[0;34m:\u001b[0m\u001b[0;34m\u001b[0m\u001b[0;34m\u001b[0m\u001b[0m\n\u001b[0;32m----> 2\u001b[0;31m     \u001b[0mn\u001b[0m \u001b[0;34m=\u001b[0m \u001b[0mnp\u001b[0m\u001b[0;34m.\u001b[0m\u001b[0mshape\u001b[0m\u001b[0;34m(\u001b[0m\u001b[0mA\u001b[0m\u001b[0;34m)\u001b[0m\u001b[0;34m[\u001b[0m\u001b[0;36m0\u001b[0m\u001b[0;34m]\u001b[0m\u001b[0;34m\u001b[0m\u001b[0;34m\u001b[0m\u001b[0m\n\u001b[0m\u001b[1;32m      3\u001b[0m     \u001b[0mH\u001b[0m \u001b[0;34m=\u001b[0m \u001b[0mnp\u001b[0m\u001b[0;34m.\u001b[0m\u001b[0mzeros\u001b[0m\u001b[0;34m(\u001b[0m\u001b[0;34m(\u001b[0m\u001b[0mn\u001b[0m\u001b[0;34m,\u001b[0m\u001b[0mn\u001b[0m\u001b[0;34m)\u001b[0m\u001b[0;34m)\u001b[0m\u001b[0;34m\u001b[0m\u001b[0;34m\u001b[0m\u001b[0m\n\u001b[1;32m      4\u001b[0m \u001b[0;34m\u001b[0m\u001b[0m\n\u001b[1;32m      5\u001b[0m     \u001b[0;32mfor\u001b[0m \u001b[0mi\u001b[0m \u001b[0;32min\u001b[0m \u001b[0mnp\u001b[0m\u001b[0;34m.\u001b[0m\u001b[0marange\u001b[0m\u001b[0;34m(\u001b[0m\u001b[0mn\u001b[0m\u001b[0;34m)\u001b[0m\u001b[0;34m:\u001b[0m\u001b[0;34m\u001b[0m\u001b[0;34m\u001b[0m\u001b[0m\n",
      "\u001b[0;31mNameError\u001b[0m: name 'np' is not defined"
     ]
    }
   ],
   "source": [
    "A = [[3,2,0], [2,5,1], [0,1,3]]\n",
    "H = cholesky(A)\n",
    "\n",
    "print(f\"Matrix Original: \\n{np.array(A)}\")\n",
    "print(\"\\n\\n\")\n",
    "print(f\"Matrix Cholesky: \\n {H}\")"
   ]
  },
  {
   "cell_type": "code",
   "execution_count": null,
   "id": "852ec06c",
   "metadata": {},
   "outputs": [],
   "source": []
  }
 ],
 "metadata": {
  "kernelspec": {
   "display_name": "Python 3",
   "language": "python",
   "name": "python3"
  },
  "language_info": {
   "codemirror_mode": {
    "name": "ipython",
    "version": 3
   },
   "file_extension": ".py",
   "mimetype": "text/x-python",
   "name": "python",
   "nbconvert_exporter": "python",
   "pygments_lexer": "ipython3",
   "version": "3.9.5"
  }
 },
 "nbformat": 4,
 "nbformat_minor": 5
}
