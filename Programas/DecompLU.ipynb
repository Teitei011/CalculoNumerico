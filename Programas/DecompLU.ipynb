{
 "cells": [
  {
   "cell_type": "code",
   "execution_count": 2,
   "metadata": {
    "colab": {
     "base_uri": "https://localhost:8080/"
    },
    "executionInfo": {
     "elapsed": 749,
     "status": "ok",
     "timestamp": 1619525369254,
     "user": {
      "displayName": "Vitor Alves Pires",
      "photoUrl": "https://lh3.googleusercontent.com/a-/AOh14GiOWmozOiUOct2-zIat3NeoYXwq3fkCGl72YJVgiQ=s64",
      "userId": "04757212216159719223"
     },
     "user_tz": 180
    },
    "id": "o2mGtuRZDKOj",
    "outputId": "4968ec5d-6f8f-4b69-f3b1-0ea871c2ad51"
   },
   "outputs": [],
   "source": [
    "import numpy as np\n",
    "import sympy"
   ]
  },
  {
   "cell_type": "markdown",
   "metadata": {},
   "source": [
    "# Decomposição LU\n",
    "\n",
    "\n",
    "Dada $A \\in M(n,n)$. Queremos **L, U** $\\in M(n,n)$, tal que:\n",
    "\n",
    "$$A = L U$$\n",
    "\n",
    "\n",
    "\n",
    "[![https://imgur.com/MR6sECM.png](https://imgur.com/MR6sECM.png)](https://imgur.com/MR6sECM.png)\n",
    "\n",
    "**Sua Decomposição:**\n",
    "\n",
    "[![https://imgur.com/JQLK2X6.png](https://imgur.com/JQLK2X6.png)](https://imgur.com/JQLK2X6.png)\n",
    "\n",
    "\n",
    "\n",
    "## Termos Gerais \n",
    "\n",
    "\n",
    "$$u_{i j} = a_{i j} - \\sum_{k = 1}^{i-1} l_{i k} u_{k j}$$\n",
    "\n",
    "$$l_{i j} = \\frac{a_{i j} -  \\sum_{k = 1}^{j-1} l_{i k } u_{k j}}{u_{jj}}$$\n",
    "\n",
    "\n",
    "\n",
    "## Complexidade: \n",
    "\n",
    "- **LU:** $\\frac{2n^3}{3}$ flops\n"
   ]
  },
  {
   "cell_type": "code",
   "execution_count": 3,
   "metadata": {},
   "outputs": [],
   "source": [
    "def decompLU(A):\n",
    "    n = np.shape(A)[0]\n",
    "    L = np.eye(n) \n",
    "    U = np.zeros((n,n))\n",
    "    \n",
    "    for k  in np.arange(n):\n",
    "        for j in np.arange(k,n):\n",
    "            U[k,j] = A[k, j]\n",
    "            for s in np.arange(k):\n",
    "                U[k, j] = U[k, j] - L[k, s] * U[s, j]\n",
    "        for i in np.arange(k + 1, n):  ### Pq esse intervalo? \n",
    "            L[i, k] = A[i, k]\n",
    "            for s in np.arange(k):\n",
    "                L[i, k] = L[i, k] - L[i, s] * U[s, k]\n",
    "            L[i, k] = L[i, k] / U[k, k]\n",
    "    return L, U  "
   ]
  },
  {
   "cell_type": "markdown",
   "metadata": {},
   "source": [
    "## LU Solve\n",
    "\n",
    "\n",
    "Sabendo que:\n",
    "\n",
    "[![https://imgur.com/jvfFjF2.png](https://imgur.com/jvfFjF2.png)](https://imgur.com/jvfFjF2.png)\n",
    "\n",
    "Como resolver $Ax = b$ com $b = [2, 1, 4]^T$?\n",
    "\n",
    "\n",
    "**Solução:**\n",
    "\n",
    "[![https://imgur.com/LA3MYje.png](https://imgur.com/LA3MYje.png)](https://imgur.com/LA3MYje.png)\n",
    "\n",
    "1. Resolva $L y = b$ com substituições progressivas ##TODO: Ver mais sobres esse algoritmos\n",
    "2. Resolva $U x = y$ com substituições regressivas\n",
    "\n"
   ]
  },
  {
   "cell_type": "code",
   "execution_count": 4,
   "metadata": {},
   "outputs": [],
   "source": [
    "def LUsolve(A, b):\n",
    "    n = np.shape(A)[0]  \n",
    "    L, U = decompLU(A)\n",
    "    for k in range(1, n):\n",
    "        b[k] = b[k] - L[k, 0:k].dot(b[0:k])\n",
    "    for k in range(n - 1, -1 , -1):\n",
    "        b[k] = (b[k] - U[k, k + 1:n].dot(b[k + 1:n])) / U[k, k]\n",
    "    return b"
   ]
  },
  {
   "cell_type": "markdown",
   "metadata": {},
   "source": [
    "## Exemplo "
   ]
  },
  {
   "cell_type": "code",
   "execution_count": 5,
   "metadata": {},
   "outputs": [
    {
     "name": "stdout",
     "output_type": "stream",
     "text": [
      "L: [[ 1.  0.  0.]\n",
      " [ 1.  1.  0.]\n",
      " [-2.  4.  1.]]\n",
      "U: [[ 1.  2.  0.]\n",
      " [ 0.  1.  1.]\n",
      " [ 0.  0. -3.]]\n",
      "Solução x: [1 1 1]\n"
     ]
    }
   ],
   "source": [
    "A = np.array([[1, 2,0], [1, 3,1],[-2, 0,1]])\n",
    "b = np.array([3,5,-1])\n",
    "\n",
    "L, U = decompLU(A)\n",
    "\n",
    "x = LUsolve(A,b)\n",
    "\n",
    "\n",
    "print(f\"L: {L}\")\n",
    "print(f\"U: {U}\")\n",
    "print(f\"Solução x: {x}\")"
   ]
  },
  {
   "cell_type": "markdown",
   "metadata": {},
   "source": [
    "## Com a biblioteca do python3"
   ]
  },
  {
   "cell_type": "code",
   "execution_count": 6,
   "metadata": {},
   "outputs": [
    {
     "name": "stdout",
     "output_type": "stream",
     "text": [
      "L: Matrix([[1, 0, 0], [1, 1, 0], [-2, 4, 1]])\n",
      "U: Matrix([[1, 2, 0], [0, 1, 1], [0, 0, -3]])\n",
      "Solução: Matrix([[1], [1], [1]])\n"
     ]
    }
   ],
   "source": [
    "#Decomposição LU com SymPy\n",
    "\n",
    "A = sympy.Matrix([[1, 2,0], [1, 3,1],[-2, 0,1] ])\n",
    "b = sympy.Matrix([3, 5,-1])\n",
    "L, U, _ = A.LUdecomposition()\n",
    "\n",
    "\n",
    "print(f\"L: {L}\")\n",
    "print(f\"U: {U}\")\n",
    "\n",
    "x = A.solve(b); \n",
    "print(f\"Solução: {x}\")"
   ]
  }
 ],
 "metadata": {
  "colab": {
   "authorship_tag": "ABX9TyOGWWO6FYIWT1QCi/6S3Z58",
   "name": "DecompLU.ipynb",
   "provenance": []
  },
  "kernelspec": {
   "display_name": "Python 3",
   "language": "python",
   "name": "python3"
  },
  "language_info": {
   "codemirror_mode": {
    "name": "ipython",
    "version": 3
   },
   "file_extension": ".py",
   "mimetype": "text/x-python",
   "name": "python",
   "nbconvert_exporter": "python",
   "pygments_lexer": "ipython3",
   "version": "3.9.5"
  }
 },
 "nbformat": 4,
 "nbformat_minor": 1
}
