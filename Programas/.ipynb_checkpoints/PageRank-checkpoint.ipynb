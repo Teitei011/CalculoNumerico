{
 "cells": [
  {
   "cell_type": "code",
   "execution_count": 58,
   "id": "232422c8",
   "metadata": {},
   "outputs": [],
   "source": [
    "from sklearn.preprocessing import normalize\n",
    "import numpy as np\n",
    "import time "
   ]
  },
  {
   "cell_type": "code",
   "execution_count": 85,
   "id": "89ae5895",
   "metadata": {},
   "outputs": [],
   "source": [
    "def pageRank(A, max_iter, df, showIterations):\n",
    "    bias = np.ones(A.shape[1])\n",
    "\n",
    "    ir = 1 / A.shape[0]\n",
    "    rank = np.asarray([ir] * A.shape[0])\n",
    "\n",
    "    for n_iter in range(1, max_iter + 1):\n",
    "        rank_new = A.dot(rank) # call scipy.sparse safe_sparse_dot()\n",
    "        rank_new = normalize(rank_new.reshape(1, -1), norm='l1').reshape(-1)\n",
    "        rank_new = df * rank_new + (1 - df) * bias    \n",
    "        diff = abs(rank - rank_new).sum()\n",
    "        rank = rank_new\n",
    "        if(showIterations):\n",
    "            print('iter {} : diff = {}'.format(n_iter, diff))\n",
    "\n",
    "    return rank\n"
   ]
  },
  {
   "cell_type": "code",
   "execution_count": 86,
   "id": "f335dd79",
   "metadata": {},
   "outputs": [],
   "source": [
    "def randomMatrixGenerator(size):\n",
    "    return  np.random.rand(size, size)"
   ]
  },
  {
   "cell_type": "code",
   "execution_count": 89,
   "id": "30c43465",
   "metadata": {
    "scrolled": false
   },
   "outputs": [
    {
     "name": "stdout",
     "output_type": "stream",
     "text": [
      "iter 1 : diff = 7.350000000000002\n",
      "iter 2 : diff = 0.0004137113648044477\n",
      "iter 3 : diff = 3.2699084863141437e-06\n",
      "iter 4 : diff = 3.222189171037115e-08\n",
      "iter 5 : diff = 2.5665136682562206e-10\n",
      "iter 6 : diff = 2.207289906408505e-12\n",
      "iter 7 : diff = 2.067790383364354e-14\n",
      "iter 8 : diff = 2.498001805406602e-16\n",
      "iter 9 : diff = 1.1102230246251565e-16\n",
      "iter 10 : diff = 1.1102230246251565e-16\n",
      "iter 11 : diff = 1.1102230246251565e-16\n",
      "iter 12 : diff = 1.1102230246251565e-16\n",
      "iter 13 : diff = 1.1102230246251565e-16\n",
      "iter 14 : diff = 1.1102230246251565e-16\n",
      "iter 15 : diff = 1.1102230246251565e-16\n",
      "iter 16 : diff = 1.1102230246251565e-16\n",
      "iter 17 : diff = 1.1102230246251565e-16\n",
      "iter 18 : diff = 1.1102230246251565e-16\n",
      "iter 19 : diff = 1.1102230246251565e-16\n",
      "iter 20 : diff = 1.1102230246251565e-16\n",
      "iter 21 : diff = 1.1102230246251565e-16\n",
      "iter 22 : diff = 1.1102230246251565e-16\n",
      "iter 23 : diff = 1.1102230246251565e-16\n",
      "iter 24 : diff = 1.1102230246251565e-16\n",
      "iter 25 : diff = 1.1102230246251565e-16\n",
      "iter 26 : diff = 1.1102230246251565e-16\n",
      "iter 27 : diff = 1.1102230246251565e-16\n",
      "iter 28 : diff = 1.1102230246251565e-16\n",
      "iter 29 : diff = 1.1102230246251565e-16\n",
      "iter 30 : diff = 1.1102230246251565e-16\n",
      "iter 31 : diff = 1.1102230246251565e-16\n",
      "iter 32 : diff = 1.1102230246251565e-16\n",
      "iter 33 : diff = 1.1102230246251565e-16\n",
      "iter 34 : diff = 1.1102230246251565e-16\n",
      "iter 35 : diff = 1.1102230246251565e-16\n",
      "iter 36 : diff = 1.1102230246251565e-16\n",
      "iter 37 : diff = 1.1102230246251565e-16\n",
      "iter 38 : diff = 1.1102230246251565e-16\n",
      "iter 39 : diff = 1.1102230246251565e-16\n",
      "iter 40 : diff = 1.1102230246251565e-16\n",
      "iter 41 : diff = 1.1102230246251565e-16\n",
      "iter 42 : diff = 1.1102230246251565e-16\n",
      "iter 43 : diff = 1.1102230246251565e-16\n",
      "iter 44 : diff = 1.1102230246251565e-16\n",
      "iter 45 : diff = 1.1102230246251565e-16\n",
      "iter 46 : diff = 1.1102230246251565e-16\n",
      "iter 47 : diff = 1.1102230246251565e-16\n",
      "iter 48 : diff = 1.1102230246251565e-16\n",
      "iter 49 : diff = 1.1102230246251565e-16\n",
      "iter 50 : diff = 1.1102230246251565e-16\n"
     ]
    }
   ],
   "source": [
    "def main():\n",
    "    number = 50\n",
    "    max_iter = 50; df = 0.85; \n",
    "    showIterations = True\n",
    "    rank = pageRank(randomMatrixGenerator(number), max_iter, df, showIterations)\n",
    "#     print(f\"Ranks: {rank}\")\n",
    "main()    "
   ]
  },
  {
   "cell_type": "code",
   "execution_count": null,
   "id": "81de19f1",
   "metadata": {},
   "outputs": [],
   "source": []
  },
  {
   "cell_type": "code",
   "execution_count": null,
   "id": "5a12f57e",
   "metadata": {},
   "outputs": [],
   "source": []
  }
 ],
 "metadata": {
  "kernelspec": {
   "display_name": "Python 3.9.5 64-bit",
   "language": "python",
   "name": "python39564bit2c89f8d59327465a992525b687637974"
  },
  "language_info": {
   "codemirror_mode": {
    "name": "ipython",
    "version": 3
   },
   "file_extension": ".py",
   "mimetype": "text/x-python",
   "name": "python",
   "nbconvert_exporter": "python",
   "pygments_lexer": "ipython3",
   "version": "3.9.5"
  }
 },
 "nbformat": 4,
 "nbformat_minor": 5
}
