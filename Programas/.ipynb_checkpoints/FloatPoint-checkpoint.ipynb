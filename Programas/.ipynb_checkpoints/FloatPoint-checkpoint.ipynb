{
 "cells": [
  {
   "cell_type": "code",
   "execution_count": 10,
   "metadata": {},
   "outputs": [],
   "source": [
    "def convert2Binary(N):\n",
    "\n",
    "    k = 0\n",
    "    denominador = 2\n",
    "    quociente = N // denominador\n",
    "    resto = N % denominador\n",
    "    d = []\n",
    "    d.append(resto)\n",
    "\n",
    "    while quociente != 0:\n",
    "        k = k + 1\n",
    "        N = quociente\n",
    "        quociente = N//denominador\n",
    "        resto = N%denominador\n",
    "        d.append(resto)\n",
    "    else:\n",
    "        pass\n",
    "\n",
    "    return(d[::-1])    "
   ]
  },
  {
   "cell_type": "code",
   "execution_count": 12,
   "metadata": {},
   "outputs": [
    {
     "name": "stdout",
     "output_type": "stream",
     "text": [
      "Número: 29 -> \t Binário: [1, 1, 1, 0, 1]\n"
     ]
    }
   ],
   "source": [
    "\n",
    "N = 29\n",
    "binary = convert2Binary(N)\n",
    "\n",
    "print(f\"Número: {N} -> \\t Binário: {binary}\")"
   ]
  }
 ],
 "metadata": {
  "colab": {
   "authorship_tag": "ABX9TyNh9rOwXrhjZsxZUj1WdrFZ",
   "name": "FloatPoint.ipynb",
   "provenance": []
  },
  "kernelspec": {
   "display_name": "Python 3",
   "language": "python",
   "name": "python3"
  },
  "language_info": {
   "codemirror_mode": {
    "name": "ipython",
    "version": 3
   },
   "file_extension": ".py",
   "mimetype": "text/x-python",
   "name": "python",
   "nbconvert_exporter": "python",
   "pygments_lexer": "ipython3",
   "version": "3.9.5"
  }
 },
 "nbformat": 4,
 "nbformat_minor": 1
}
