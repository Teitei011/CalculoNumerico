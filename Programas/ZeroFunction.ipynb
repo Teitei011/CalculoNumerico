{
 "cells": [
  {
   "cell_type": "code",
   "execution_count": 18,
   "id": "757a042b",
   "metadata": {},
   "outputs": [],
   "source": [
    "import numpy as np \n",
    "from scipy import linalg as lin \n",
    "import scipy as sci \n",
    "import math as m \n",
    "import matplotlib.pyplot as plt "
   ]
  },
  {
   "attachments": {},
   "cell_type": "markdown",
   "id": "848e0682",
   "metadata": {},
   "source": [
    "# Bisseção\n",
    "\n",
    "Se aproxima do zero da função como uma bola de golfe num buraco\n",
    "\n",
    "![image.png](bissecao.png)\n",
    "\n",
    "\n",
    "\n",
    "## Propriedades\n",
    "\n",
    "+ Simples e fácil de implementar \n",
    "+ Seguro e robusto (Não falha) \n",
    "+ Convergência garantida (Teorema) \n",
    "+ Requer apenas que f \\in C([a, b])\n",
    "- Lento e difícil de generalizar para sistemas de equação \n"
   ]
  },
  {
   "cell_type": "code",
   "execution_count": 20,
   "id": "5e81688b",
   "metadata": {},
   "outputs": [],
   "source": [
    "def bissecao(func,a,b,x0,tol,flag_parada):\n",
    "            x = x0; erro = np.inf;\n",
    "            k = 0; kmax = 1000;\n",
    "        \n",
    "            while(erro > tol and k < kmax):\n",
    "                k += 1;\n",
    "                if(func(a) * func(x) < 0):\n",
    "                    b = x;\n",
    "                else:\n",
    "                    a = x;\n",
    "                \n",
    "                x0 = x;\n",
    "                x = (a + b) / 2;\n",
    "                \n",
    "                # cálculo do erro vai depender do critério de parada escolhido\n",
    "                if(flag_parada == 0):\n",
    "                    erro = abs(x - x0);\n",
    "                elif(flag_parada == 1):\n",
    "                    erro = abs(x - x0) / abs(x);\n",
    "                else:\n",
    "                    erro = abs(func(x));\n",
    "            return x, k"
   ]
  },
  {
   "cell_type": "code",
   "execution_count": 21,
   "id": "96bb0d70",
   "metadata": {},
   "outputs": [
    {
     "name": "stdout",
     "output_type": "stream",
     "text": [
      "Bissecção - Usando o critério de parada do erro relativo:\n",
      "O zero da função é 11.861506, foram usadas 20 iterações\\n\n"
     ]
    }
   ],
   "source": [
    "\n",
    "f = lambda x: x**3-30*x**2 + 2552\n",
    "a = 0; b = 20; tol = 1e-6;\n",
    "x0 = (a+b)/2;\n",
    "\n",
    "# print('Bissecção - Usando o critério de parada do erro absoluto:')\n",
    "# flag_parada = 0;\n",
    "# (x_0,k) = bissecao(f,a,b,x0,tol,flag_parada)\n",
    "# print('O zero da função é %.6f, foram usadas %d iterações\\\\n' %(x_0,k))\n",
    "\n",
    "print('Bissecção - Usando o critério de parada do erro relativo:')\n",
    "flag_parada = 1;\n",
    "(x_1,k) = bissecao(f,a,b,x0,tol,flag_parada)\n",
    "print('O zero da função é %.6f, foram usadas %d iterações\\\\n' %(x_1,k))\n",
    "\n",
    "# print('Bissecção - Usando o critério de parada do resíduo:')\n",
    "# flag_parada = 2;\n",
    "# (x_2,k) = bissecao(f,a,b,x0,tol,flag_parada)\n",
    "# print('O zero da função é %.6f, foram usadas %d iterações\\\\n' %(x_2,k))\n",
    "\n",
    "x_array = np.arange(a,b+0.5,0.5)\n",
    "y_array = f(x_array)"
   ]
  },
  {
   "cell_type": "markdown",
   "id": "6da96469",
   "metadata": {},
   "source": [
    "# Newton\n",
    "\n",
    "![image.png](newton.png)\n",
    "\n",
    "## Propriedades \n",
    "\n",
    "### Vantagens\n",
    "- Simples e fácil de implementar \n",
    "- Generalização para sistemas de equações é trivial \n",
    "- Rápida convergência -> Quantidade de dígitos significativos precisos duplica (pelo menos)  a cada iteração \n",
    "\n",
    "### Desvantagens\n",
    "- Requer o  cálculo da derivada de f(x) (Pode ser computacionalmente caro) \n",
    "- A função f(x) pode ser não diferenciável \n"
   ]
  },
  {
   "cell_type": "code",
   "execution_count": 23,
   "id": "10f28270",
   "metadata": {},
   "outputs": [],
   "source": [
    "def newton(func,dfunc,x0,tol,flag_parada):\n",
    "            x = x0; erro = np.inf;\n",
    "            k = 0; kmax = 1000;\n",
    "        \n",
    "            while(erro > tol and k < kmax):\n",
    "                k = k + 1;\n",
    "                x0 = x;\n",
    "                dx = func(x) / dfunc(x);\n",
    "                x = x - dx;\n",
    "                \n",
    "                # cálculo do erro vai depender do critério de parada escolhido\n",
    "                if(flag_parada == 0):\n",
    "                    erro = abs(x-x0);\n",
    "                elif(flag_parada == 1):\n",
    "                    erro = abs(x-x0)/abs(x);\n",
    "                else:\n",
    "                    erro = abs(func(x));\n",
    "            \n",
    "            return x, k\n",
    "        \n",
    "\n",
    "        "
   ]
  },
  {
   "cell_type": "code",
   "execution_count": 24,
   "id": "af4ea8e6",
   "metadata": {},
   "outputs": [
    {
     "name": "stdout",
     "output_type": "stream",
     "text": [
      "Newton - Usando o critério de parada do erro relativo:\n",
      "O zero da função é 11.861502, foram usadas 7 iterações\\n\n"
     ]
    }
   ],
   "source": [
    "f = lambda x: x**3-30*x**2 + 2552\n",
    "df = lambda x: 3*x**2-60*x\n",
    "x0 = 3; tol = 1e-6; a = 0; b = 20;\n",
    "\n",
    "print('Newton - Usando o critério de parada do erro relativo:')\n",
    "flag_parada = 1;\n",
    "(x_1,k) = newton(f,df,x0,tol,flag_parada)\n",
    "print('O zero da função é %.6f, foram usadas %d iterações\\\\n' %(x_1,k))\n",
    "\n",
    "x_array = np.arange(a,b+0.5,0.5)\n",
    "y_array = f(x_array)"
   ]
  },
  {
   "attachments": {},
   "cell_type": "markdown",
   "id": "9d4099ab",
   "metadata": {},
   "source": [
    "# Secante\n",
    "\n",
    "\n",
    "![image.png](secante.png)\n",
    "\n",
    "O Método da Secante é obtido aproximando a derivada do Método de Newton por diferenças finitas\n",
    "\n",
    "![image.png](diferencas_finitas.png)\n",
    "\n",
    "## Propriedades \n",
    "\n",
    "### Vantagens\n",
    "- Não requer o cálculo de derivadas \n",
    "\n",
    "### Desvantagens\n",
    "- Precisa de dois chutes iniciais ($x_0$ e $x_1$)\n",
    "- A convergência não é tão rápida quando o Método de Newton\n",
    "\n"
   ]
  },
  {
   "cell_type": "code",
   "execution_count": 28,
   "id": "377b760f",
   "metadata": {},
   "outputs": [],
   "source": [
    "def secante(func,x0,x1,tol,flag_parada):\n",
    "            erro = erro = np.inf;\n",
    "            k = 0; kmax = 1000;\n",
    "            x = x1;\n",
    "        \n",
    "            while(erro > tol and k < kmax):\n",
    "                k = k + 1;\n",
    "                f0 = func(x0)\n",
    "                f1 = func(x);\n",
    "                ds = f1*(x-x0)/(f1-f0);\n",
    "                x0 = x;\n",
    "                x = x - ds;\n",
    "                \n",
    "                # cálculo do erro vai depender do critério de parada escolhido\n",
    "                if(flag_parada == 0):\n",
    "                    erro = abs(x-x0);\n",
    "                elif(flag_parada == 1):\n",
    "                    erro = abs(x-x0)/abs(x);\n",
    "                else:\n",
    "                    erro = abs(func(x));\n",
    "            \n",
    "            return x, k\n",
    "    "
   ]
  },
  {
   "cell_type": "code",
   "execution_count": 29,
   "id": "83299f09",
   "metadata": {},
   "outputs": [
    {
     "name": "stdout",
     "output_type": "stream",
     "text": [
      "Secante - Usando o critério de parada do erro relativo:\n",
      "O zero da função é 11.861502, foram usadas 4 iterações\\n\n"
     ]
    }
   ],
   "source": [
    "f = lambda x: x**3-30*x**2 + 2552\n",
    "x0 = 3; tol = 1e-6;\n",
    "a = 0; b = 20;\n",
    "\n",
    "# vamos fazer uma iteração da bisseção para achar x1\n",
    "if(f(a)*f(x0) < 0):\n",
    "    b = x0;\n",
    "else:\n",
    "    a = x0;       \n",
    "x1 = (a+b)/2;\n",
    "\n",
    "print('Secante - Usando o critério de parada do erro relativo:')\n",
    "flag_parada = 1;\n",
    "(x_1,k) = secante(f,x0,x1,tol,flag_parada)\n",
    "print('O zero da função é %.6f, foram usadas %d iterações\\\\n' %(x_1,k))\n"
   ]
  },
  {
   "cell_type": "code",
   "execution_count": null,
   "id": "6db17413",
   "metadata": {},
   "outputs": [],
   "source": []
  }
 ],
 "metadata": {
  "kernelspec": {
   "display_name": "Python 3",
   "language": "python",
   "name": "python3"
  },
  "language_info": {
   "codemirror_mode": {
    "name": "ipython",
    "version": 3
   },
   "file_extension": ".py",
   "mimetype": "text/x-python",
   "name": "python",
   "nbconvert_exporter": "python",
   "pygments_lexer": "ipython3",
   "version": "3.9.6"
  }
 },
 "nbformat": 4,
 "nbformat_minor": 5
}
