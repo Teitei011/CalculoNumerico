{
 "cells": [
  {
   "cell_type": "code",
   "execution_count": 15,
   "id": "9227ebee",
   "metadata": {},
   "outputs": [],
   "source": [
    "import numpy as np"
   ]
  },
  {
   "cell_type": "markdown",
   "id": "108dbc06",
   "metadata": {},
   "source": [
    "# Eliminação de Gauss"
   ]
  },
  {
   "cell_type": "code",
   "execution_count": 16,
   "id": "a77164ed",
   "metadata": {},
   "outputs": [],
   "source": [
    "def ElimGauss(a,b):\n",
    "    n = len(b)\n",
    "    for k in range(0,n-1):\n",
    "        for i in range(k+1,n):\n",
    "            if a[i,k] != 0.0:\n",
    "                lam = a[i, k] / a[k, k]\n",
    "                a[i, k + 1:n] = a[i, k + 1:n] - lam * a[k, k + 1:n]\n",
    "                b[i] = b[i] - lam*b[k]        \n",
    "        return a, b"
   ]
  },
  {
   "cell_type": "markdown",
   "id": "9cc4d48a",
   "metadata": {},
   "source": [
    "## Solve System"
   ]
  },
  {
   "cell_type": "code",
   "execution_count": 17,
   "id": "7376aba0",
   "metadata": {},
   "outputs": [],
   "source": [
    "def SolveSis(a, b):\n",
    "    n = len(b)\n",
    "    a, b = ElimGauss(a, b)\n",
    "    for k in range(n - 1, -1, -1):\n",
    "        b[k] = (b[k] - a[k, k + 1:n].dot(b[k + 1:n])) / a[k, k]\n",
    "    return b"
   ]
  },
  {
   "cell_type": "markdown",
   "id": "4d8bead5",
   "metadata": {},
   "source": [
    "## Exemplo "
   ]
  },
  {
   "cell_type": "code",
   "execution_count": 18,
   "id": "91e47b4d",
   "metadata": {},
   "outputs": [
    {
     "name": "stdout",
     "output_type": "stream",
     "text": [
      "Resultado: [ 0  1 -1]\n"
     ]
    }
   ],
   "source": [
    "A = np.array([[2, 1,2], [4, 3,3],[6, 5,-1]])\n",
    "b = np.array([-1,0,6])\n",
    "x = SolveSis(A,b)\n",
    "print(f\"Resultado: {x}\")"
   ]
  },
  {
   "cell_type": "code",
   "execution_count": null,
   "id": "a4c61f49",
   "metadata": {},
   "outputs": [],
   "source": []
  }
 ],
 "metadata": {
  "kernelspec": {
   "display_name": "Python 3",
   "language": "python",
   "name": "python3"
  },
  "language_info": {
   "codemirror_mode": {
    "name": "ipython",
    "version": 3
   },
   "file_extension": ".py",
   "mimetype": "text/x-python",
   "name": "python",
   "nbconvert_exporter": "python",
   "pygments_lexer": "ipython3",
   "version": "3.9.5"
  }
 },
 "nbformat": 4,
 "nbformat_minor": 5
}
