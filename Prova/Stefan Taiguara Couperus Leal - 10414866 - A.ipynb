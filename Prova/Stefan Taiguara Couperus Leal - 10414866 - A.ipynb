{
 "cells": [
  {
   "cell_type": "markdown",
   "id": "c21bd851",
   "metadata": {},
   "source": [
    "# Importações"
   ]
  },
  {
   "cell_type": "code",
   "execution_count": 2,
   "id": "f0ee24fd",
   "metadata": {},
   "outputs": [],
   "source": [
    "import matplotlib.pyplot as plt\n",
    "import pandas as pd\n",
    "import numpy as np\n",
    "import math as m"
   ]
  },
  {
   "cell_type": "markdown",
   "id": "c99da9c8",
   "metadata": {},
   "source": [
    "# Mínimos Quadrados \n"
   ]
  },
  {
   "cell_type": "code",
   "execution_count": 3,
   "id": "8be84570",
   "metadata": {},
   "outputs": [
    {
     "data": {
      "text/html": [
       "<div>\n",
       "<style scoped>\n",
       "    .dataframe tbody tr th:only-of-type {\n",
       "        vertical-align: middle;\n",
       "    }\n",
       "\n",
       "    .dataframe tbody tr th {\n",
       "        vertical-align: top;\n",
       "    }\n",
       "\n",
       "    .dataframe thead th {\n",
       "        text-align: right;\n",
       "    }\n",
       "</style>\n",
       "<table border=\"1\" class=\"dataframe\">\n",
       "  <thead>\n",
       "    <tr style=\"text-align: right;\">\n",
       "      <th></th>\n",
       "      <th>Ano</th>\n",
       "      <th>População</th>\n",
       "    </tr>\n",
       "  </thead>\n",
       "  <tbody>\n",
       "    <tr>\n",
       "      <th>0</th>\n",
       "      <td>1872.0</td>\n",
       "      <td>9.9</td>\n",
       "    </tr>\n",
       "    <tr>\n",
       "      <th>1</th>\n",
       "      <td>1890.0</td>\n",
       "      <td>14.3</td>\n",
       "    </tr>\n",
       "    <tr>\n",
       "      <th>2</th>\n",
       "      <td>1900.0</td>\n",
       "      <td>17.4</td>\n",
       "    </tr>\n",
       "    <tr>\n",
       "      <th>3</th>\n",
       "      <td>1920.0</td>\n",
       "      <td>30.6</td>\n",
       "    </tr>\n",
       "    <tr>\n",
       "      <th>4</th>\n",
       "      <td>1940.0</td>\n",
       "      <td>41.2</td>\n",
       "    </tr>\n",
       "    <tr>\n",
       "      <th>5</th>\n",
       "      <td>1950.0</td>\n",
       "      <td>51.9</td>\n",
       "    </tr>\n",
       "    <tr>\n",
       "      <th>6</th>\n",
       "      <td>1960.0</td>\n",
       "      <td>70.9</td>\n",
       "    </tr>\n",
       "    <tr>\n",
       "      <th>7</th>\n",
       "      <td>1970.0</td>\n",
       "      <td>94.5</td>\n",
       "    </tr>\n",
       "    <tr>\n",
       "      <th>8</th>\n",
       "      <td>1980.0</td>\n",
       "      <td>121.1</td>\n",
       "    </tr>\n",
       "    <tr>\n",
       "      <th>9</th>\n",
       "      <td>1991.0</td>\n",
       "      <td>146.9</td>\n",
       "    </tr>\n",
       "    <tr>\n",
       "      <th>10</th>\n",
       "      <td>2000.0</td>\n",
       "      <td>169.5</td>\n",
       "    </tr>\n",
       "    <tr>\n",
       "      <th>11</th>\n",
       "      <td>2010.0</td>\n",
       "      <td>190.7</td>\n",
       "    </tr>\n",
       "  </tbody>\n",
       "</table>\n",
       "</div>"
      ],
      "text/plain": [
       "       Ano  População\n",
       "0   1872.0        9.9\n",
       "1   1890.0       14.3\n",
       "2   1900.0       17.4\n",
       "3   1920.0       30.6\n",
       "4   1940.0       41.2\n",
       "5   1950.0       51.9\n",
       "6   1960.0       70.9\n",
       "7   1970.0       94.5\n",
       "8   1980.0      121.1\n",
       "9   1991.0      146.9\n",
       "10  2000.0      169.5\n",
       "11  2010.0      190.7"
      ]
     },
     "execution_count": 3,
     "metadata": {},
     "output_type": "execute_result"
    }
   ],
   "source": [
    "população = pd.DataFrame(np.array([\n",
    "        [1872, 1890, 1900, 1920, 1940, 1950, 1960, 1970, 1980, 1991, 2000, 2010], \n",
    "        [9.9,14.3,17.4,30.6,41.2,51.9,70.9,94.5,121.1,146.9,169.5,190.7]]).T, \n",
    "         columns=[\"Ano\", \"População\"])\n",
    "população"
   ]
  },
  {
   "cell_type": "markdown",
   "id": "9bcb0031",
   "metadata": {},
   "source": [
    "## Gráfico do crescimento Populacional no Brasil"
   ]
  },
  {
   "cell_type": "code",
   "execution_count": 4,
   "id": "b393a7ec",
   "metadata": {},
   "outputs": [
    {
     "data": {
      "image/png": "[encoded data removed]",
      "text/plain": [
       "<Figure size 432x288 with 1 Axes>"
      ]
     },
     "metadata": {
      "needs_background": "light"
     },
     "output_type": "display_data"
    }
   ],
   "source": [
    "plt.title(\"Crescimento Populacional do Brasil\")\n",
    "plt.xlabel(\"Ano\")\n",
    "plt.ylabel(\"População (milhões)\")\n",
    "plt.plot(população.Ano, população.População )\n",
    "# plt.semilogy()\n",
    "plt.grid()"
   ]
  },
  {
   "cell_type": "markdown",
   "id": "c7506eb9",
   "metadata": {},
   "source": [
    "## Funções utilizada"
   ]
  },
  {
   "cell_type": "code",
   "execution_count": 5,
   "id": "6c5c7b09",
   "metadata": {},
   "outputs": [],
   "source": [
    "def fatoraCholesky(A):\n",
    "    H = np.tril(A)\n",
    "    n = np.shape(H)[0]\n",
    "\n",
    "    for i in np.arange(n):\n",
    "        for k in np.arange(i+1):\n",
    "            tmp_sum = sum(H[i][j] * H[k][j] for j in np.arange(k))\n",
    "            if (i == k):\n",
    "                H[i][k] = m.sqrt(H[i][k] - tmp_sum)\n",
    "            else:\n",
    "                H[i][k] = (1.0 / H[k][k] * (H[i][k] - tmp_sum))\n",
    "    return H\n",
    "\n",
    "def sub_regressiva(U,y):\n",
    "    n = np.shape(y)[0]\n",
    "    x = np.zeros(n)\n",
    "    for i in np.arange(n-1,-1,-1): \n",
    "        x[i] = (y[i]-U[i,i+1:n].dot(x[i+1:n]))/U[i,i]\n",
    "    return x\n",
    "\n",
    "def sub_progressiva(L,b):\n",
    "    n = np.shape(b)[0]\n",
    "    z = np.zeros(n)\n",
    "    for i in np.arange(n):\n",
    "        z[i] = (b[i]-L[i,0:i].dot(z[0:i]))/L[i,i] \n",
    "    return z        \n",
    "\n",
    "\n",
    "def mmq(U, y, k):\n",
    "    n = len(y) - 1\n",
    "    A = np.zeros([k, k])\n",
    "    b = np.zeros(k)\n",
    "\n",
    "    for i in range(0, k):\n",
    "        for j in range(0, k):\n",
    "            A[i][j] = np.dot(U[i], U[j])\n",
    "        b[i] = np.dot(U[i], y)\n",
    "    return A, b\n",
    "\n",
    "def erro(y, variables, k, erro):\n",
    "    parabola  = lambda x, a1, a2, a3: a1 + a2*x + a3 * x**2\n",
    "    linear = lambda x, a, b: b*x+a\n",
    "    erro = 0\n",
    "    \n",
    "    if(erro == 0):\n",
    "        for i in range(0, k - 1):\n",
    "            erro += (y[k] - linear(k, variables[0], variables[1]))**2 \n",
    "    else:\n",
    "        for i in range(0, k - 1):\n",
    "            erro += (y[k] - parabola(k, variables[0], variables[1], variables[2]))**2 \n",
    "    return erro"
   ]
  },
  {
   "cell_type": "markdown",
   "id": "dbdc5f91",
   "metadata": {},
   "source": [
    "## Linear"
   ]
  },
  {
   "cell_type": "code",
   "execution_count": 6,
   "id": "a9a41936",
   "metadata": {},
   "outputs": [],
   "source": [
    "y = np.array(população.População, dtype=\"double\")\n",
    "X = np.array(população.Ano, dtype=\"double\").T\n",
    "\n",
    "linear = lambda x, a, b: b*x+a\n",
    "\n",
    "u0 = np.ones(len(X)).T\n",
    "u1 = np.array(X, dtype=\"double\").T\n",
    "U = np.array([u0, u1], dtype=\"double\")\n",
    "\n",
    "A, b = mmq(U, y, 2)\n",
    "\n",
    "\n",
    "(H) = fatoraCholesky(A)\n",
    "z = sub_progressiva(H,b)\n",
    "alpha = sub_regressiva(np.transpose(H),z)"
   ]
  },
  {
   "cell_type": "code",
   "execution_count": 7,
   "id": "acbb07b9",
   "metadata": {},
   "outputs": [
    {
     "data": {
      "image/png": "[encoded data removed]",
      "text/plain": [
       "<Figure size 432x288 with 1 Axes>"
      ]
     },
     "metadata": {
      "needs_background": "light"
     },
     "output_type": "display_data"
    }
   ],
   "source": [
    "a, b = alpha\n",
    "\n",
    "error = erro(y, [a, b], 2, 0)\n",
    " \n",
    "xx = np.linspace(1870, 2020, 20)\n",
    "yy = linear(xx, a, b)\n",
    "\n",
    "plt.title(\"Crescimento Populacional do Brasil\")\n",
    "plt.xlabel(\"Ano\")\n",
    "plt.ylabel(\"População (milhões)\")\n",
    "plt.scatter(população.Ano, população.População, label=\"Dados\", color=\"black\")\n",
    "plt.plot(xx, yy, label=\"Linear Fit\",  color=\"red\")\n",
    "plt.legend()\n",
    "plt.grid()"
   ]
  },
  {
   "cell_type": "code",
   "execution_count": 8,
   "id": "d7e8d3f9",
   "metadata": {},
   "outputs": [
    {
     "name": "stdout",
     "output_type": "stream",
     "text": [
      "A estimativa da população, de forma linear, é igual a: 174.85 milhões\n"
     ]
    }
   ],
   "source": [
    "print(\"A estimativa da população, de forma linear, é igual a: {:.2f} milhões\".format(linear(2020, a, b)))\n",
    "# print(\"O erro estimado é: {:.2f}\" .format(error))"
   ]
  },
  {
   "cell_type": "markdown",
   "id": "a5ef1b5c",
   "metadata": {},
   "source": [
    "## Parabólico"
   ]
  },
  {
   "cell_type": "code",
   "execution_count": 9,
   "id": "fe9dc212",
   "metadata": {},
   "outputs": [],
   "source": [
    "y = np.array(população.População, dtype=\"double\")\n",
    "X = np.array(população.Ano, dtype=\"double\").T\n",
    "\n",
    "u0 = np.ones(len(X)).T\n",
    "u1 = np.array(X, dtype=\"double\").T\n",
    "u2 = np.array([i**2for i in X], dtype=\"double\").T\n",
    "U = np.array([u0, u1, u2], dtype=\"double\")\n",
    "\n",
    "A, b = mmq(U, y, 3)\n",
    "\n",
    "(H) = fatoraCholesky(A)\n",
    "z = sub_progressiva(H,b)\n",
    "alpha = sub_regressiva(np.transpose(H),z)"
   ]
  },
  {
   "cell_type": "code",
   "execution_count": 10,
   "id": "32c345bb",
   "metadata": {},
   "outputs": [
    {
     "data": {
      "image/png": "[encoded data removed]",
      "text/plain": [
       "<Figure size 432x288 with 1 Axes>"
      ]
     },
     "metadata": {
      "needs_background": "light"
     },
     "output_type": "display_data"
    }
   ],
   "source": [
    "a1, a2, a3 = alpha\n",
    "parabola  = lambda x, a1, a2, a3: a1 + a2*x + a3 * x**2\n",
    "\n",
    "error = erro(y, [a1, a2, a3], 3, 1)\n",
    "\n",
    "xx = np.linspace(1870, 2020, 20)\n",
    "yy = parabola(xx, a1, a2, a3)\n",
    "\n",
    "plt.title(\"Crescimento Populacional do Brasil\")\n",
    "plt.xlabel(\"Ano\")\n",
    "plt.ylabel(\"População (milhões)\")\n",
    "plt.scatter(população.Ano, população.População, label=\"Dados\", color=\"black\")\n",
    "plt.plot(xx, yy, label=\"Parabolic Fit\",  color=\"red\")\n",
    "plt.legend()\n",
    "plt.grid()"
   ]
  },
  {
   "cell_type": "markdown",
   "id": "0510b9a4",
   "metadata": {},
   "source": [
    "A estimativa é feita utilizando da função obtida com os mínimos quadrados, ou linear, e, com isso, vc faz coloca o valor de 2020 e obtem o número da população naquele ano."
   ]
  },
  {
   "cell_type": "code",
   "execution_count": 11,
   "id": "bc4bf496",
   "metadata": {},
   "outputs": [
    {
     "name": "stdout",
     "output_type": "stream",
     "text": [
      "A estimativa da população é igual a: 226.45 milhões\n"
     ]
    }
   ],
   "source": [
    "print(\"A estimativa da população é igual a: {:.2f} milhões\".format(parabola(2020,  a1, a2, a3)))\n",
    "# print(\"O erro é: {:.2f}\".format(error))"
   ]
  },
  {
   "cell_type": "markdown",
   "id": "bdfe0a6f",
   "metadata": {},
   "source": [
    "# Equações Diferencias Ordinárias \n",
    "\n",
    "\n",
    "\n",
    "                "
   ]
  },
  {
   "cell_type": "markdown",
   "id": "b31731d5",
   "metadata": {},
   "source": [
    "\n",
    "## Modelo Kermack-McKendrick\n",
    "\n",
    "$$\\begin{bmatrix}\n",
    "    S^{'}_{(t)} \\\\\n",
    "    I^{'}_{(t)} \\\\\n",
    "    R^{'}_{(t)} \\\\\n",
    "\\end{bmatrix}  = \\begin{bmatrix} \n",
    "                    -b S(t) I(t) \\\\\n",
    "                    b S(t) I(t) - a I(t) \\\\\n",
    "                    a I(t) \\\\\n",
    "                \\end{bmatrix}$$\n",
    "                \n",
    "                \n",
    "                \n",
    "$S(t) \\rightarrow$ Indivíduos suscetíveis\n",
    "\n",
    "$T(t) \\rightarrow$ Indivíduos infectados\n",
    "\n",
    "$R(t) \\rightarrow$ Indivíduos removidos (isolados, recuperados, mortos ou imunes)\n",
    "\n",
    "$a \\rightarrow$ Taxa de recuperação\n",
    "\n",
    "$b \\rightarrow$ Taxa de contágio\n"
   ]
  },
  {
   "cell_type": "markdown",
   "id": "4099f7ea",
   "metadata": {},
   "source": [
    "## Runge Kutta"
   ]
  },
  {
   "cell_type": "code",
   "execution_count": 12,
   "id": "3144cdd5",
   "metadata": {},
   "outputs": [],
   "source": [
    "def rk4_sys(x,h,F,Y0):\n",
    "    n = len(x);\n",
    "    m = len(Y0);\n",
    "    Y = np.zeros((m,n));\n",
    "    Y[:,0] = Y0;\n",
    "\n",
    "    for i in np.arange(1,n):\n",
    "        k1 = F(x[i-1],Y[:,i-1]);\n",
    "        k2 = F(x[i-1]+0.5*h,Y[:,i-1]+0.5*h*k1);\n",
    "        k3 = F(x[i-1]+0.5*h,Y[:,i-1]+0.5*h*k2);\n",
    "        k4 = F(x[i-1]+h,Y[:,i-1]+h*k3);\n",
    "\n",
    "        Y[:,i] = Y[:,i-1] + (h/6)*(k1+2*(k2+k3)+k4);\n",
    "\n",
    "    return Y;\n"
   ]
  },
  {
   "cell_type": "markdown",
   "id": "421aa653",
   "metadata": {},
   "source": [
    "**a)** $b = 0.0007$\n"
   ]
  },
  {
   "cell_type": "code",
   "execution_count": 13,
   "id": "f123b8ad",
   "metadata": {},
   "outputs": [],
   "source": [
    "a = 0.1\n",
    "b = 0.0007\n",
    "S = 999\n",
    "I = 1\n",
    "R = 0\n",
    "t0 = 0\n",
    "tf = 70"
   ]
  },
  {
   "cell_type": "code",
   "execution_count": 14,
   "id": "32858c3e",
   "metadata": {
    "scrolled": true
   },
   "outputs": [],
   "source": [
    "Y = [S, I, R]\n",
    "\n",
    "F = lambda x,Y: np.array([- b * Y[0] * Y[1], b * Y[0] * Y[1] - a * Y[1]]);\n",
    "# F = lambda x,Y: np.array([Y[0]*(a-b*Y[1]),Y[1]*(-a+b*Y[0])]);\n",
    "\n",
    "\n",
    "Y0 = np.array([999,1])\n",
    "h = 0.001;\n",
    "n = int((70-0)/h);\n",
    "x = np.linspace(0,70,n+1,endpoint=True);\n",
    "\n",
    "Y_rk4 = rk4_sys(x,h,F,Y0);\n",
    "Recuperados =  Y_rk4[1,:] * a"
   ]
  },
  {
   "cell_type": "code",
   "execution_count": 15,
   "id": "e29c934e",
   "metadata": {},
   "outputs": [
    {
     "data": {
      "image/png": "[encoded data removed]",
      "text/plain": [
       "<Figure size 720x432 with 1 Axes>"
      ]
     },
     "metadata": {},
     "output_type": "display_data"
    }
   ],
   "source": [
    "plt.figure(figsize=(10,6),facecolor='white')\n",
    "plt.plot(x,Y_rk4[0,:],label = 'Suscetíveis',linewidth = 2,marker='o')\n",
    "plt.plot(x,Y_rk4[1,:],label = 'Infectados',linewidth = 2,marker='<')\n",
    "plt.plot(x,Recuperados,label = 'Removidos',linewidth = 2,marker='*')\n",
    "plt.xlabel('x',fontsize='large') \n",
    "plt.grid()\n",
    "plt.ylabel('y',fontsize='large') \n",
    "plt.title('Observando as Curvas') \n",
    "plt.legend(fontsize='large') \n",
    "plt.show()"
   ]
  },
  {
   "cell_type": "code",
   "execution_count": 16,
   "id": "043f84cb",
   "metadata": {},
   "outputs": [
    {
     "name": "stdout",
     "output_type": "stream",
     "text": [
      "O Pico da pandemia com 579.30 casos foi no dia 15 \n"
     ]
    }
   ],
   "source": [
    "pico_pandemia = np.max(Y_rk4[1,:])\n",
    "print(\"O Pico da pandemia com {:.2f} casos foi no dia {:.0f} \" .format( pico_pandemia, np.where(Y_rk4[1] == pico_pandemia)[0][0] *h))"
   ]
  },
  {
   "cell_type": "markdown",
   "id": "5aae4b82",
   "metadata": {},
   "source": [
    "**b)**  $b = 0.0004$\n"
   ]
  },
  {
   "cell_type": "code",
   "execution_count": 17,
   "id": "f00580f0",
   "metadata": {},
   "outputs": [],
   "source": [
    "a = 0.1\n",
    "b = 0.0004\n",
    "S = 999\n",
    "I = 1\n",
    "R = 0\n",
    "t0 = 0\n",
    "tf = 70"
   ]
  },
  {
   "cell_type": "code",
   "execution_count": 18,
   "id": "d45de7cc",
   "metadata": {},
   "outputs": [],
   "source": [
    "Y = [S, I, R]\n",
    "\n",
    "F = lambda x,Y: np.array([- b * Y[0] * Y[1], b * Y[0] * Y[1] - a * Y[1]]);\n",
    "\n",
    "Y0 = np.array([999,1])\n",
    "h = 0.001;\n",
    "n = int((70-0)/h);\n",
    "x = np.linspace(0,70,n+1,endpoint=True);\n",
    "\n",
    "Y_rk4 = rk4_sys(x,h,F,Y0);\n",
    "Recuperados =  Y_rk4[1,:] * a"
   ]
  },
  {
   "cell_type": "code",
   "execution_count": 19,
   "id": "06313736",
   "metadata": {},
   "outputs": [
    {
     "data": {
      "image/png": "[encoded data removed]",
      "text/plain": [
       "<Figure size 720x432 with 1 Axes>"
      ]
     },
     "metadata": {},
     "output_type": "display_data"
    }
   ],
   "source": [
    "plt.figure(figsize=(10,6),facecolor='white')\n",
    "plt.plot(x,Y_rk4[0,:],label = 'Suscetíveis',linewidth = 2,marker='o')\n",
    "plt.plot(x,Y_rk4[1,:],label = 'Infectados',linewidth = 2,marker='<')\n",
    "plt.plot(x,Recuperados,label = 'Removidos',linewidth = 2,marker='*')\n",
    "plt.xlabel('x',fontsize='large') \n",
    "plt.grid()\n",
    "plt.ylabel('y',fontsize='large') \n",
    "plt.title('Observando as Curvas') \n",
    "plt.legend(fontsize='large') \n",
    "plt.show()"
   ]
  },
  {
   "cell_type": "code",
   "execution_count": 20,
   "id": "337a81b6",
   "metadata": {},
   "outputs": [
    {
     "name": "stdout",
     "output_type": "stream",
     "text": [
      "O Pico da pandemia com 403.68 casos foi no dia 27 \n"
     ]
    }
   ],
   "source": [
    "pico_pandemia = np.max(Y_rk4[1,:])\n",
    "print(\"O Pico da pandemia com {:.2f} casos foi no dia {:.0f} \" .format( pico_pandemia, np.where(Y_rk4[1] == pico_pandemia)[0][0] *h))"
   ]
  },
  {
   "cell_type": "markdown",
   "id": "003939dc",
   "metadata": {},
   "source": [
    "# Zeros de funções e sistemas não lineares"
   ]
  },
  {
   "cell_type": "markdown",
   "id": "3e7090b6",
   "metadata": {},
   "source": [
    "$$p(x) = -x^4 + 7.7 x^3-18 x^2 + 13.6 x$$\n",
    "\n",
    "$$q(x) = - x^2 +5x +0.75$$\n",
    "\n",
    "Juntando as duas funções \n",
    "\n",
    "$$ -x^4 + 7.7 x^3-18 x^2+13.6 x =  - x^2 +5x +0.75$$\n",
    "\n",
    "Arrumando...\n",
    "\n",
    "$$ f(x) = - x^4 + 7.7 x^3 - 17 x^2 + 8.6  x - 0.75$$\n",
    "\n",
    "\n",
    "Sua derivada (para Newton):\n",
    "\n",
    "$$ f^{´}(x) = - 4  x^3 + 23.1  x^2 - 34  x +8.6$$"
   ]
  },
  {
   "cell_type": "code",
   "execution_count": 21,
   "id": "42ff20b6",
   "metadata": {},
   "outputs": [],
   "source": [
    "p = lambda x:  -x**4+7.7*x**3-18*x**2+13.6*x\n",
    "q = lambda x:  -x**2+5*x+0.75\n",
    "\n",
    "f = lambda x: - x**4 + 7.7 * x**3 - 17* x**2 + 8.6 * x - 0.75 \n",
    "df = lambda x: - 4 * x**3 + 23.1 * x**2 - 34 * x +8.6"
   ]
  },
  {
   "cell_type": "markdown",
   "id": "1b1790d8",
   "metadata": {},
   "source": [
    "## Bisseção"
   ]
  },
  {
   "cell_type": "code",
   "execution_count": 22,
   "id": "d94c8483",
   "metadata": {},
   "outputs": [],
   "source": [
    "def bissecao(func,a,b,x0,tol,flag_parada):\n",
    "            x = x0; erro = np.inf;\n",
    "            k = 0; kmax = 5;\n",
    "        \n",
    "            while(erro > tol and k < kmax):\n",
    "                k += 1;\n",
    "                if(func(a) * func(x) < 0):\n",
    "                    b = x;\n",
    "                else:\n",
    "                    a = x;\n",
    "                \n",
    "                x0 = x;\n",
    "                x = (a + b) / 2;\n",
    "                \n",
    "                # cálculo do erro vai depender do critério de parada escolhido\n",
    "                if(flag_parada == 0):\n",
    "                    erro = abs(x - x0);\n",
    "                elif(flag_parada == 1):\n",
    "                    erro = abs(x - x0) / abs(x);\n",
    "                else:\n",
    "                    erro = abs(func(x));\n",
    "            return x,  erro"
   ]
  },
  {
   "cell_type": "markdown",
   "id": "54ada6b3",
   "metadata": {},
   "source": [
    "### Com erro comparativo"
   ]
  },
  {
   "cell_type": "code",
   "execution_count": 23,
   "id": "4017d903",
   "metadata": {},
   "outputs": [
    {
     "name": "stdout",
     "output_type": "stream",
     "text": [
      "Altura atingida: 6.336669921875 com um erro igual a: 0.125\n"
     ]
    }
   ],
   "source": [
    "x, erroBissecao =  bissecao(f, 2, 4, 0, 0.001, 0)\n",
    "alturaBissecao = p(x)\n",
    "print(f\"Altura atingida: {alturaBissecao} com um erro igual a: {erroBissecao}\")"
   ]
  },
  {
   "cell_type": "markdown",
   "id": "0910fbeb",
   "metadata": {},
   "source": [
    "### Com erro relativo"
   ]
  },
  {
   "cell_type": "code",
   "execution_count": 24,
   "id": "8063cc26",
   "metadata": {},
   "outputs": [
    {
     "name": "stdout",
     "output_type": "stream",
     "text": [
      "Altura atingida: 6.336669921875 com um erro igual a: 0.04\n"
     ]
    }
   ],
   "source": [
    "x, erroBissecao =  bissecao(f, 2, 4, 0, 0.001, 1)\n",
    "alturaBissecao = p(x)\n",
    "print(f\"Altura atingida: {alturaBissecao} com um erro igual a: {erroBissecao}\")"
   ]
  },
  {
   "cell_type": "markdown",
   "id": "d725f117",
   "metadata": {},
   "source": [
    "### Com erro absoluto"
   ]
  },
  {
   "cell_type": "code",
   "execution_count": 25,
   "id": "a0127fe3",
   "metadata": {},
   "outputs": [
    {
     "name": "stdout",
     "output_type": "stream",
     "text": [
      "Altura atingida: 6.336669921875 com um erro igual a: 0.272705078125\n"
     ]
    }
   ],
   "source": [
    "x, erroBissecao =  bissecao(f, 2, 4, 0, 0.001, 2)\n",
    "alturaBissecao = p(x)\n",
    "print(f\"Altura atingida: {alturaBissecao} com um erro igual a: {erroBissecao}\")"
   ]
  },
  {
   "cell_type": "markdown",
   "id": "0aba0021",
   "metadata": {},
   "source": [
    "## Newton"
   ]
  },
  {
   "cell_type": "code",
   "execution_count": 26,
   "id": "f7750d86",
   "metadata": {},
   "outputs": [],
   "source": [
    "def newton(func,dfunc,x0,tol,flag_parada):\n",
    "            x = x0; erro = np.inf;\n",
    "            k = 0; kmax = 1000;\n",
    "        \n",
    "            while(erro > tol and k < kmax):\n",
    "                k = k + 1;\n",
    "                x0 = x;\n",
    "                dx = func(x) / dfunc(x);\n",
    "                x = x - dx;\n",
    "                \n",
    "                # cálculo do erro vai depender do critério de parada escolhido\n",
    "                if(flag_parada == 0):\n",
    "                    erro = abs(x-x0);\n",
    "                elif(flag_parada == 1):\n",
    "                    erro = abs(x-x0)/abs(x);\n",
    "                else:\n",
    "                    erro = abs(func(x));\n",
    "            \n",
    "            return x, erro"
   ]
  },
  {
   "cell_type": "markdown",
   "id": "62c490c6",
   "metadata": {},
   "source": [
    "### Com erro comparativo "
   ]
  },
  {
   "cell_type": "code",
   "execution_count": 33,
   "id": "53463430",
   "metadata": {},
   "outputs": [
    {
     "name": "stdout",
     "output_type": "stream",
     "text": [
      "Altura atingida: 5.15020 com um erro igual a: 0.00003\n"
     ]
    }
   ],
   "source": [
    "x,erroNewton = newton(f,df,2,0.001,0)\n",
    "alturaNewton = p(x)\n",
    "# print(f\"Altura atingida: {alturaNewton} com um erro igual a: {erroNewton}\")\n",
    "print(\"Altura atingida: {:.5f} com um erro igual a: {:.5f}\".format(alturaNewton, erroNewton))"
   ]
  },
  {
   "cell_type": "markdown",
   "id": "c518f65e",
   "metadata": {},
   "source": [
    "### Com erro relativo "
   ]
  },
  {
   "cell_type": "code",
   "execution_count": 32,
   "id": "04c922e7",
   "metadata": {},
   "outputs": [
    {
     "name": "stdout",
     "output_type": "stream",
     "text": [
      "Altura atingida: 5.150198 com um erro igual a: 0.000008\n"
     ]
    }
   ],
   "source": [
    "x,erroNewton = newton(f,df,2,0.001,1)\n",
    "alturaNewton = p(x)\n",
    "print(\"Altura atingida: {:.6f} com um erro igual a: {:.6f}\".format(alturaNewton, erroNewton))"
   ]
  },
  {
   "cell_type": "markdown",
   "id": "3eaf6c8d",
   "metadata": {},
   "source": [
    "### Com erro absoluto"
   ]
  },
  {
   "cell_type": "code",
   "execution_count": 31,
   "id": "bb284d38",
   "metadata": {},
   "outputs": [
    {
     "name": "stdout",
     "output_type": "stream",
     "text": [
      "Altura atingida: 5.1498 com um erro igual a: 0.0003\n"
     ]
    }
   ],
   "source": [
    "x,erroNewton = newton(f,df,2,0.001,2)\n",
    "alturaNewton = p(x)\n",
    "print(\"Altura atingida: {:.4f} com um erro igual a: {:.4f}\".format(alturaNewton, erroNewton))"
   ]
  },
  {
   "cell_type": "markdown",
   "id": "0b1acc3d",
   "metadata": {},
   "source": [
    "## Conclusão \n"
   ]
  },
  {
   "cell_type": "markdown",
   "id": "22d7e9e2",
   "metadata": {},
   "source": [
    "| Critério  |  Bisseção (erro) | Newton (erro) | \n",
    "|---|---|---|\n",
    "|  Comparativo | 0.125  | 3.206174172065701e-05  | \n",
    "| Absoluto  |  0.272705078125 |   0.00027293278139950417 | \n",
    "|  Relativo |0.04   |  8.305991144021625e-06  |  \n",
    "\n",
    "Observa-se que, independente do critério de parada utilizado, o método de Newton é mais preciso para achar a raíz da função. \n",
    "\n"
   ]
  },
  {
   "cell_type": "code",
   "execution_count": null,
   "id": "3d4e9b68",
   "metadata": {},
   "outputs": [],
   "source": []
  },
  {
   "cell_type": "code",
   "execution_count": 30,
   "id": "216b241e",
   "metadata": {},
   "outputs": [],
   "source": [
    "# X  = np.array([-1, 0, 1,2 ], dtype=\"double\")\n",
    "# y   = np.array([0, -1, 0,7 ], dtype=\"double\")\n",
    "\n",
    "# # Parabolico \n",
    "# u0 = np.ones(len(X)).T\n",
    "# u1 = np.array(X, dtype=\"double\").T\n",
    "# u2 = np.array([i**2for i in X], dtype=\"double\").T\n",
    "# U = np.array([u0, u1, u2], dtype=\"double\")\n",
    "\n",
    "\n",
    "# A, b = mmq(U, y, 3)\n",
    "\n",
    "# (H) = fatoraCholesky(A)\n",
    "# z = sub_progressiva(H,b)\n",
    "# alpha = sub_regressiva(np.transpose(H),z)\n",
    "\n",
    "# print(alpha)"
   ]
  }
 ],
 "metadata": {
  "kernelspec": {
   "display_name": "Python 3",
   "language": "python",
   "name": "python3"
  },
  "language_info": {
   "codemirror_mode": {
    "name": "ipython",
    "version": 3
   },
   "file_extension": ".py",
   "mimetype": "text/x-python",
   "name": "python",
   "nbconvert_exporter": "python",
   "pygments_lexer": "ipython3",
   "version": "3.9.6"
  }
 },
 "nbformat": 4,
 "nbformat_minor": 5
}
