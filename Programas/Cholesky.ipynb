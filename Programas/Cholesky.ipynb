{
 "cells": [
  {
   "cell_type": "code",
   "execution_count": 3,
   "id": "275527a3",
   "metadata": {},
   "outputs": [],
   "source": [
    "from math import sqrt\n",
    "import numpy as np"
   ]
  },
  {
   "cell_type": "markdown",
   "id": "95050f48",
   "metadata": {},
   "source": [
    "# Decomposição de Cholesky \n",
    "\n",
    "Dada **A** $\\in M(n,n)$ SPD. Queremos **H** $\\in M(n, n)$, tal que:\n",
    "\n",
    "$$A = H . H^T$$\n",
    "\n",
    "[![https://imgur.com/uXRuTxz.png](https://imgur.com/uXRuTxz.png)](https://imgur.com/uXRuTxz.png)\n",
    "\n",
    "\n",
    "\n",
    "1. Diagonal \n",
    "$$h_{i i} = \\left( a_{ii} - \\sum_{k = 1}^{i - 1} h_{i k}^2\\right)^{\\frac{1}{2}}$$\n",
    "\n",
    "2. Fora da diagonal \n",
    "\n",
    "$$ h_{i j} = \\frac{a_{i j} - \\sum_{k = 1}^{j - 1} h_{i k} h_{j k}} {h_{j j}}$$\n",
    "\n",
    "\n",
    "\n",
    "## Complexidade: \n",
    "\n",
    " **Cholesky:** $\\frac{n^3}{3}$ flops\n",
    "  - $50 \\%$ mais eficiente que LU!\n",
    "  - Economia de memória, pois só armazena uma matriz!\n"
   ]
  },
  {
   "cell_type": "code",
   "execution_count": 4,
   "id": "116a3dc1",
   "metadata": {},
   "outputs": [],
   "source": [
    "def cholesky(A):\n",
    "    n = np.shape(A)[0]\n",
    "    H = np.zeros((n,n))\n",
    "\n",
    "    for i in np.arange(n):\n",
    "        for j in np.arange(i + 1):\n",
    "            tmp_sum = sum(H[i][k] * H[j][k] for k in np.arange(j))           \n",
    "            if (i == j):\n",
    "                H[i][j] = sqrt(A[i][i] - tmp_sum)\n",
    "            else:\n",
    "                H[i][j] = ((A[i][j] - tmp_sum) / H[j][j])\n",
    "    return H"
   ]
  },
  {
   "cell_type": "markdown",
   "id": "eb50ffa2",
   "metadata": {},
   "source": [
    "## Exemplo"
   ]
  },
  {
   "cell_type": "code",
   "execution_count": 5,
   "id": "c4016810",
   "metadata": {},
   "outputs": [
    {
     "name": "stdout",
     "output_type": "stream",
     "text": [
      "Matrix Original: \n",
      "[[3 2 0]\n",
      " [2 5 1]\n",
      " [0 1 3]]\n",
      "\n",
      "\n",
      "\n",
      "Matrix Cholesky: \n",
      " [[1.73205081 0.         0.        ]\n",
      " [1.15470054 1.91485422 0.        ]\n",
      " [0.         0.52223297 1.65144565]]\n"
     ]
    }
   ],
   "source": [
    "A = [[3,2,0], [2,5,1], [0,1,3]]\n",
    "H = cholesky(A)\n",
    "\n",
    "print(f\"Matrix Original: \\n{np.array(A)}\")\n",
    "print(\"\\n\\n\")\n",
    "print(f\"Matrix Cholesky: \\n {H}\")"
   ]
  },
  {
   "cell_type": "code",
   "execution_count": null,
   "id": "4e488e06",
   "metadata": {},
   "outputs": [],
   "source": []
  },
  {
   "cell_type": "code",
   "execution_count": null,
   "id": "7328fd28",
   "metadata": {},
   "outputs": [],
   "source": []
  }
 ],
 "metadata": {
  "kernelspec": {
   "display_name": "Python 3",
   "language": "python",
   "name": "python3"
  },
  "language_info": {
   "codemirror_mode": {
    "name": "ipython",
    "version": 3
   },
   "file_extension": ".py",
   "mimetype": "text/x-python",
   "name": "python",
   "nbconvert_exporter": "python",
   "pygments_lexer": "ipython3",
   "version": "3.9.5"
  }
 },
 "nbformat": 4,
 "nbformat_minor": 5
}
