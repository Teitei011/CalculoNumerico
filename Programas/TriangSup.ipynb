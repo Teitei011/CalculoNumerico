{
 "cells": [
  {
   "cell_type": "markdown",
   "id": "88b6db96",
   "metadata": {},
   "source": [
    "# Triangular Superior\n"
   ]
  },
  {
   "cell_type": "code",
   "execution_count": 1,
   "id": "fbd6502f",
   "metadata": {},
   "outputs": [],
   "source": [
    "def TriangularSup(A,b):\n",
    "    n = len(b)\n",
    "    x = [0] * n\n",
    "    x[n - 1] = b[n - 1] / A[n - 1][n - 1]\n",
    "\n",
    "    for i in range(n - 1, 0, -1):\n",
    "        s = 0\n",
    "        for j in range(i + 1,n + 1, 1):\n",
    "            s = s + A[i - 1][j - 1] * x[j - 1]\n",
    "\n",
    "        x[i - 1] = (b[i - 1] - s) / (A[i - 1][i - 1]) \n",
    "\n",
    "    return x"
   ]
  },
  {
   "cell_type": "markdown",
   "id": "47a7e60b",
   "metadata": {},
   "source": [
    "# Exemplos"
   ]
  },
  {
   "cell_type": "code",
   "execution_count": 3,
   "id": "3b6b03ec",
   "metadata": {},
   "outputs": [
    {
     "name": "stdout",
     "output_type": "stream",
     "text": [
      "[-3.0000000000000004, 5.000000000000001, 0.0]\n"
     ]
    }
   ],
   "source": [
    "# Dados\n",
    "A = [[3,2,4],[0,(1/3),(2/3)],[0,0,1]]\n",
    "b = [1,(5/3),0]\n",
    "x = TriangularSup(A,b)\n",
    "print(x)"
   ]
  },
  {
   "cell_type": "code",
   "execution_count": null,
   "id": "a8003665",
   "metadata": {},
   "outputs": [],
   "source": []
  }
 ],
 "metadata": {
  "kernelspec": {
   "display_name": "Python 3",
   "language": "python",
   "name": "python3"
  },
  "language_info": {
   "codemirror_mode": {
    "name": "ipython",
    "version": 3
   },
   "file_extension": ".py",
   "mimetype": "text/x-python",
   "name": "python",
   "nbconvert_exporter": "python",
   "pygments_lexer": "ipython3",
   "version": "3.9.5"
  }
 },
 "nbformat": 4,
 "nbformat_minor": 5
}
