{
 "cells": [
  {
   "cell_type": "code",
   "execution_count": 4,
   "metadata": {
    "colab": {
     "base_uri": "https://localhost:8080/"
    },
    "executionInfo": {
     "elapsed": 228,
     "status": "ok",
     "timestamp": 1624362451118,
     "user": {
      "displayName": "Vitor Alves Pires",
      "photoUrl": "https://lh3.googleusercontent.com/a-/AOh14GiOWmozOiUOct2-zIat3NeoYXwq3fkCGl72YJVgiQ=s64",
      "userId": "04757212216159719223"
     },
     "user_tz": 180
    },
    "id": "PqwykfnCmZyG",
    "outputId": "263e5fcc-4551-4d3e-f41d-31e251624d21"
   },
   "outputs": [],
   "source": [
    "import numpy as np\n",
    "from scipy import linalg as lin\n",
    "import scipy as sci\n",
    "import math as m\n",
    "import matplotlib.pyplot as plt\n",
    "from sympy import *\n",
    "import time\n"
   ]
  },
  {
   "cell_type": "markdown",
   "metadata": {},
   "source": [
    "# Newton - sistemas\n"
   ]
  },
  {
   "cell_type": "code",
   "execution_count": 5,
   "metadata": {},
   "outputs": [],
   "source": [
    "\n",
    "def newton_sis(F,Jac,x,tol,kmax):\n",
    "    erro = np.inf; k = 0;\n",
    "\n",
    "    while(erro > tol and k < kmax):\n",
    "        k = k+1;\n",
    "        v = np.linalg.solve(Jac(x),F(x));\n",
    "        x = x-v;\n",
    "        erro = np.linalg.norm(v);\n",
    "\n",
    "    return x,k\n",
    "\n"
   ]
  },
  {
   "cell_type": "code",
   "execution_count": 7,
   "metadata": {},
   "outputs": [
    {
     "name": "stdout",
     "output_type": "stream",
     "text": [
      "[-7.3554896e-18  1.0000000e+00]\n",
      "6\n"
     ]
    }
   ],
   "source": [
    "f1 = lambda x: x[0]**2-2*x[0]-x[1]+1;\n",
    "f2 = lambda x: x[0]**2+x[1]**2-1;\n",
    "F = lambda x: np.array([f1(x),f2(x)])\n",
    "\n",
    "jac11 = lambda x: 2*x[0]-2;\n",
    "jac12 = lambda x: -1;\n",
    "jac21 = lambda x: 2*x[0];\n",
    "jac22 = lambda x: 2*x[1];\n",
    "Jac = lambda x: np.array([[jac11(x),jac12(x)],[jac21(x),jac22(x)]])\n",
    "\n",
    "x0 = [-1.0,1.0];\n",
    "# x0 = [1.0,-1.0];\n",
    "\n",
    "(x,k) = newton_sis(F,Jac,x0,1e-8,1000)\n",
    "print(x)\n",
    "print(k)"
   ]
  },
  {
   "cell_type": "code",
   "execution_count": null,
   "metadata": {},
   "outputs": [],
   "source": []
  }
 ],
 "metadata": {
  "colab": {
   "authorship_tag": "ABX9TyN8hkLOi4wEV1/0Abz3D62N",
   "collapsed_sections": [],
   "name": "Newto_sis.ipynb",
   "provenance": []
  },
  "kernelspec": {
   "display_name": "Python 3",
   "language": "python",
   "name": "python3"
  },
  "language_info": {
   "codemirror_mode": {
    "name": "ipython",
    "version": 3
   },
   "file_extension": ".py",
   "mimetype": "text/x-python",
   "name": "python",
   "nbconvert_exporter": "python",
   "pygments_lexer": "ipython3",
   "version": "3.9.6"
  }
 },
 "nbformat": 4,
 "nbformat_minor": 1
}
