{
 "cells": [
  {
   "cell_type": "code",
   "execution_count": null,
   "id": "1f193d75",
   "metadata": {},
   "outputs": [],
   "source": [
    "from sklearn.preprocessing import normalize\n",
    "import numpy as np\n",
    "import time "
   ]
  },
  {
   "cell_type": "markdown",
   "id": "c85991ee",
   "metadata": {},
   "source": [
    "# PageRank \n",
    "\n",
    "\n"
   ]
  },
  {
   "cell_type": "code",
   "execution_count": null,
   "id": "be4600b5",
   "metadata": {},
   "outputs": [],
   "source": [
    "def pageRank(A, max_iter, df, showIterations):\n",
    "    bias = np.ones(A.shape[1])\n",
    "\n",
    "    ir = 1 / A.shape[0]\n",
    "    rank = np.asarray([ir] * A.shape[0])\n",
    "\n",
    "    for n_iter in range(1, max_iter + 1):\n",
    "        rank_new = A.dot(rank) # call scipy.sparse safe_sparse_dot()\n",
    "        rank_new = normalize(rank_new.reshape(1, -1), norm='l1').reshape(-1)\n",
    "        rank_new = df * rank_new + (1 - df) * bias    \n",
    "        diff = abs(rank - rank_new).sum()\n",
    "        rank = rank_new\n",
    "        if(showIterations):\n",
    "            print('iter {} : diff = {}'.format(n_iter, diff))\n",
    "\n",
    "    return rank\n"
   ]
  },
  {
   "cell_type": "code",
   "execution_count": null,
   "id": "fcae582d",
   "metadata": {},
   "outputs": [],
   "source": [
    "def randomMatrixGenerator(size):\n",
    "    return  np.random.rand(size, size)"
   ]
  },
  {
   "cell_type": "code",
   "execution_count": null,
   "id": "de5db030",
   "metadata": {
    "scrolled": false
   },
   "outputs": [],
   "source": [
    "def main():\n",
    "    number = 5000\n",
    "    max_iter = 50; df = 0.85; \n",
    "    showIterations = False\n",
    "    rank = pageRank(randomMatrixGenerator(number), max_iter, df, showIterations)\n",
    "#     print(f\"Ranks: {rank}\")\n",
    "main()    "
   ]
  },
  {
   "cell_type": "code",
   "execution_count": null,
   "id": "735adbb7",
   "metadata": {},
   "outputs": [],
   "source": []
  }
 ],
 "metadata": {
  "kernelspec": {
   "display_name": "Python 3.9.5 64-bit",
   "language": "python",
   "name": "python39564bit2c89f8d59327465a992525b687637974"
  },
  "language_info": {
   "codemirror_mode": {
    "name": "ipython",
    "version": 3
   },
   "file_extension": ".py",
   "mimetype": "text/x-python",
   "name": "python",
   "nbconvert_exporter": "python",
   "pygments_lexer": "ipython3",
   "version": "3.9.5"
  }
 },
 "nbformat": 4,
 "nbformat_minor": 5
}
