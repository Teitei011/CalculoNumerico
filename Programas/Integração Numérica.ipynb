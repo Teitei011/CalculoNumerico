{
 "cells": [
  {
   "cell_type": "code",
   "execution_count": 9,
   "id": "dcd2c17a",
   "metadata": {},
   "outputs": [],
   "source": [
    "import numpy as np\n",
    "from scipy import linalg as lin\n",
    "import scipy as sci\n",
    "import math as m\n",
    "import matplotlib.pyplot as plt\n",
    "from sympy import *\n",
    "import time\n",
    "\n",
    "N = 30;\n",
    "xi = np.linspace(0,1,N+1,endpoint=True);\n",
    "yi = xi*np.exp(xi);\n"
   ]
  },
  {
   "cell_type": "code",
   "execution_count": 3,
   "id": "06ee8de0",
   "metadata": {},
   "outputs": [],
   "source": [
    "# Trapézio "
   ]
  },
  {
   "cell_type": "code",
   "execution_count": 4,
   "id": "2f3c46e9",
   "metadata": {},
   "outputs": [],
   "source": [
    "def trapezio(xi,yi):\n",
    "    N = len(xi)-1; # numero de intervalos é o número de pontos menos 1\n",
    "    h = xi[1]-xi[0]; # espaçamento entre dois pontos consecutivos é h\n",
    "\n",
    "    integral = (h/2)*(yi[0]+yi[N]) + h*np.sum(yi[1:N]);\n",
    "\n",
    "    return integral;"
   ]
  },
  {
   "cell_type": "code",
   "execution_count": 10,
   "id": "b0b310f5",
   "metadata": {},
   "outputs": [
    {
     "name": "stdout",
     "output_type": "stream",
     "text": [
      "Integral com regra do trapézio: 1.00041\n",
      "Integral exata: 1.00000\n"
     ]
    }
   ],
   "source": [
    "int_trapz = trapezio(xi,yi);\n",
    "print('Integral com regra do trapézio: %.5f'%(int_trapz))\n",
    "print('Integral exata: %.5f'%(np.exp(xi[N])*(xi[N]-1)-np.exp(xi[0])*(xi[0]-1)))"
   ]
  },
  {
   "cell_type": "code",
   "execution_count": 5,
   "id": "c31bdadb",
   "metadata": {},
   "outputs": [],
   "source": [
    "# 1/3 Simpson"
   ]
  },
  {
   "cell_type": "code",
   "execution_count": 6,
   "id": "9508b5de",
   "metadata": {},
   "outputs": [],
   "source": [
    "def simpson13(xi,yi):\n",
    "    N = len(xi)-1; # numero de intervalos é o número de pontos menos 1\n",
    "    h = xi[1]-xi[0]; # espaçamento entre dois pontos consecutivos é h\n",
    "\n",
    "    integral = 4*np.sum(yi[1:N:2]) + 2*np.sum(yi[2:N-1:2]);\n",
    "    integral = (h/3)*(yi[0] + integral + yi[N]);\n",
    "\n",
    "    return integral;"
   ]
  },
  {
   "cell_type": "code",
   "execution_count": 11,
   "id": "b7be335a",
   "metadata": {},
   "outputs": [
    {
     "name": "stdout",
     "output_type": "stream",
     "text": [
      "Integral com regra do 1/3 de Simpson: 1.000000\n",
      "Integral exata: 1.00000\n"
     ]
    }
   ],
   "source": [
    "xi = np.linspace(0,1,N+1,endpoint=True);\n",
    "yi = xi*np.exp(xi);\n",
    "\n",
    "int_simp13 = simpson13(xi,yi);\n",
    "print('Integral com regra do 1/3 de Simpson: %.6f'%(int_simp13))\n",
    "print('Integral exata: %.5f'%(np.exp(xi[N])*(xi[N]-1)-np.exp(xi[0])*(xi[0]-1)))"
   ]
  },
  {
   "cell_type": "code",
   "execution_count": null,
   "id": "de7d3ef8",
   "metadata": {},
   "outputs": [],
   "source": [
    "# 3/8 de Simpson"
   ]
  },
  {
   "cell_type": "code",
   "execution_count": 7,
   "id": "a5a491b0",
   "metadata": {},
   "outputs": [],
   "source": [
    "def simpson38(xi,yi):\n",
    "    N = len(xi)-1; # numero de intervalos é o número de pontos menos 1\n",
    "    h = xi[1]-xi[0]; # espaçamento entre dois pontos consecutivos é h\n",
    "\n",
    "    integral = 3*np.sum(yi[1:N-1:3]) + 3*np.sum(yi[2:N:3]) + 2*np.sum(yi[3:N-2:3]);\n",
    "    integral = (3.0*h/8.0)*(yi[0] + integral + yi[N]);\n",
    "\n",
    "    return integral;\n"
   ]
  },
  {
   "cell_type": "code",
   "execution_count": 12,
   "id": "c0789531",
   "metadata": {},
   "outputs": [
    {
     "name": "stdout",
     "output_type": "stream",
     "text": [
      "Integral com regra do 3/8 de Simpson: 1.000000\n",
      "Integral exata: 1.00000\n"
     ]
    }
   ],
   "source": [
    "xi = np.linspace(0,1,N+1,endpoint=True);\n",
    "yi = xi*np.exp(xi);\n",
    "\n",
    "int_simp38 = simpson38(xi,yi);\n",
    "print('Integral com regra do 3/8 de Simpson: %.6f'%(int_simp38))\n",
    "print('Integral exata: %.5f'%(np.exp(xi[N])*(xi[N]-1)-np.exp(xi[0])*(xi[0]-1)))"
   ]
  },
  {
   "cell_type": "code",
   "execution_count": 13,
   "id": "c93eb933",
   "metadata": {},
   "outputs": [
    {
     "name": "stdout",
     "output_type": "stream",
     "text": [
      "Probabilidade: 0.495015\n"
     ]
    }
   ],
   "source": [
    "# Aplicação notas dos alunos\n",
    "m = 4.0; sigma = 1.5;\n",
    "f = lambda x: (1/(sigma*np.sqrt(2*np.pi)))*np.exp(-((x-m)**2)/(2*sigma**2));\n",
    "N = 30\n",
    "xi = np.linspace(3,5,N+1,endpoint=True);\n",
    "yi = f(xi);\n",
    "prob_simp13 = simpson13(xi,yi);\n",
    "print('Probabilidade: %.6f'%(prob_simp13))"
   ]
  },
  {
   "cell_type": "code",
   "execution_count": null,
   "id": "4050a5c7",
   "metadata": {},
   "outputs": [],
   "source": []
  }
 ],
 "metadata": {
  "kernelspec": {
   "display_name": "Python 3",
   "language": "python",
   "name": "python3"
  },
  "language_info": {
   "codemirror_mode": {
    "name": "ipython",
    "version": 3
   },
   "file_extension": ".py",
   "mimetype": "text/x-python",
   "name": "python",
   "nbconvert_exporter": "python",
   "pygments_lexer": "ipython3",
   "version": "3.9.6"
  }
 },
 "nbformat": 4,
 "nbformat_minor": 5
}
